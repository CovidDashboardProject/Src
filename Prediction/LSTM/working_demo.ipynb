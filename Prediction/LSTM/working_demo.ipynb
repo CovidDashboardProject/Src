{
  "nbformat": 4,
  "nbformat_minor": 0,
  "metadata": {
    "colab": {
      "name": "working_demo.ipynb",
      "provenance": [],
      "collapsed_sections": []
    },
    "kernelspec": {
      "name": "python3",
      "display_name": "Python 3"
    },
    "language_info": {
      "name": "python"
    },
    "accelerator": "GPU"
  },
  "cells": [
    {
      "cell_type": "markdown",
      "metadata": {
        "id": "OgvzeT11jXbR"
      },
      "source": [
        "# Covid-19 confirmed cases prediction System"
      ]
    },
    {
      "cell_type": "code",
      "metadata": {
        "id": "9CT-lKhfjXBg"
      },
      "source": [
        ""
      ],
      "execution_count": null,
      "outputs": []
    },
    {
      "cell_type": "markdown",
      "metadata": {
        "id": "XzKmwNVEjnYw"
      },
      "source": [
        "* #### The system is designed to work on the real-time data to capture the ongoing trend\n",
        "\n",
        "\n",
        "* #### Data is downloaded from the web site which provides the real-time data and then it’s stored in the local storage\n",
        "\n",
        "* #### Data then preprocessed and presented in the required format \n",
        "\n",
        "* #### Here we have used LSTM based RNN model for the time series prediction \n",
        "\n",
        "* #### Once the data is cleaned, it is used to train the model \n",
        "\n",
        "* #### Once the model is trained we use it for the inference and results are shown in the graph format\n"
      ]
    },
    {
      "cell_type": "code",
      "metadata": {
        "id": "Jmhj6SjyjlXG"
      },
      "source": [
        ""
      ],
      "execution_count": null,
      "outputs": []
    },
    {
      "cell_type": "code",
      "metadata": {
        "id": "vsdUfhjTlQsz"
      },
      "source": [
        ""
      ],
      "execution_count": null,
      "outputs": []
    },
    {
      "cell_type": "markdown",
      "metadata": {
        "id": "qE1UvmRultQO"
      },
      "source": [
        "## Code description"
      ]
    },
    {
      "cell_type": "code",
      "metadata": {
        "id": "SpQPCpLwls4y"
      },
      "source": [
        ""
      ],
      "execution_count": null,
      "outputs": []
    },
    {
      "cell_type": "markdown",
      "metadata": {
        "id": "u5Wsbgislw7t"
      },
      "source": [
        "* #### Complete functionalities is written in the src folder and presented in the main.py in an abstract way \n",
        "\n",
        "\n",
        "* #### Data reletated functionalities are implemented in the src.Data and model is implemented in the src.LSTM_model ( tests are included in the same )\n",
        "\n",
        "* #### Helper functionalities ae implemented in the src._helper\n"
      ]
    },
    {
      "cell_type": "code",
      "metadata": {
        "id": "cZ5Fk82glsw-"
      },
      "source": [
        ""
      ],
      "execution_count": null,
      "outputs": []
    },
    {
      "cell_type": "code",
      "metadata": {
        "id": "RIqwlQQTnGYs"
      },
      "source": [
        ""
      ],
      "execution_count": null,
      "outputs": []
    },
    {
      "cell_type": "markdown",
      "metadata": {
        "id": "pBFx_sejnG3E"
      },
      "source": [
        "## Setup the Core"
      ]
    },
    {
      "cell_type": "code",
      "metadata": {
        "id": "DCt51UlYK8VG"
      },
      "source": [
        "from main import Core\n",
        "\n",
        "C = Core(\n",
        "    n_steps = 30, # no. of days to consider for prediction\n",
        "    optimizer='adam',\n",
        "    loss='mape',\n",
        "    batch_size = 128,\n",
        "    epochs = 30,\n",
        "    steps_per_epoch = 10,\n",
        "    test_split = 0.1,\n",
        "    validation_steps = 5,\n",
        "    model_path = 'Data/saved_model/' # path to store the trained model \n",
        ")"
      ],
      "execution_count": null,
      "outputs": []
    },
    {
      "cell_type": "code",
      "metadata": {
        "id": "fFPrUc4LnJmq"
      },
      "source": [
        ""
      ],
      "execution_count": null,
      "outputs": []
    },
    {
      "cell_type": "markdown",
      "metadata": {
        "id": "FMzBHF2NnKjG"
      },
      "source": [
        "## Get the data"
      ]
    },
    {
      "cell_type": "code",
      "metadata": {
        "id": "A29bXS4bnKTv"
      },
      "source": [
        ""
      ],
      "execution_count": null,
      "outputs": []
    },
    {
      "cell_type": "code",
      "metadata": {
        "id": "ch84i5_qLM44"
      },
      "source": [
        "data = C.get_data()"
      ],
      "execution_count": null,
      "outputs": []
    },
    {
      "cell_type": "code",
      "metadata": {
        "colab": {
          "base_uri": "https://localhost:8080/"
        },
        "id": "UPC6vUsxnSpr",
        "outputId": "663a585b-535d-4e76-ed15-8819a772460a"
      },
      "source": [
        "print(data)"
      ],
      "execution_count": null,
      "outputs": [
        {
          "output_type": "stream",
          "name": "stdout",
          "text": [
            "{'train': (array([[[0.14167262],\n",
            "        [0.12694782],\n",
            "        [0.11608292],\n",
            "        ...,\n",
            "        [0.15525375],\n",
            "        [0.20371694],\n",
            "        [0.17641172]],\n",
            "\n",
            "       [[0.02716226],\n",
            "        [0.02344532],\n",
            "        [0.05489635],\n",
            "        ...,\n",
            "        [0.04789135],\n",
            "        [0.05346676],\n",
            "        [0.08649035]],\n",
            "\n",
            "       [[0.29492495],\n",
            "        [0.27176555],\n",
            "        [0.27491065],\n",
            "        ...,\n",
            "        [0.08977841],\n",
            "        [0.13638313],\n",
            "        [0.1119371 ]],\n",
            "\n",
            "       ...,\n",
            "\n",
            "       [[0.63059328],\n",
            "        [0.36197284],\n",
            "        [0.45904217],\n",
            "        ...,\n",
            "        [0.568406  ],\n",
            "        [0.65989993],\n",
            "        [0.3606862 ]],\n",
            "\n",
            "       [[0.03831308],\n",
            "        [0.04546104],\n",
            "        [0.0347391 ],\n",
            "        ...,\n",
            "        [0.03731237],\n",
            "        [0.04731951],\n",
            "        [0.04546104]],\n",
            "\n",
            "       [[0.21529664],\n",
            "        [0.13967119],\n",
            "        [0.16368835],\n",
            "        ...,\n",
            "        [0.22030021],\n",
            "        [0.22330236],\n",
            "        [0.1729807 ]]]), array([[0.18227305],\n",
            "       [0.02816297],\n",
            "       [0.09749821],\n",
            "       [0.26661901],\n",
            "       [0.07634024],\n",
            "       [0.22644746],\n",
            "       [0.03774124],\n",
            "       [0.22430307],\n",
            "       [0.03045032],\n",
            "       [0.01686919],\n",
            "       [0.03616869],\n",
            "       [0.1035025 ],\n",
            "       [0.18484632],\n",
            "       [0.44260186],\n",
            "       [0.03316655],\n",
            "       [0.02873481],\n",
            "       [0.0161544 ],\n",
            "       [0.27862759],\n",
            "       [0.03731237],\n",
            "       [0.04546104],\n",
            "       [0.1729807 ],\n",
            "       [0.0301644 ],\n",
            "       [0.01972838],\n",
            "       [0.13967119],\n",
            "       [0.24074339],\n",
            "       [0.02730522],\n",
            "       [0.04374553],\n",
            "       [0.24660472],\n",
            "       [0.23959971],\n",
            "       [0.0224446 ],\n",
            "       [0.03774124],\n",
            "       [0.7691208 ],\n",
            "       [0.13852752],\n",
            "       [0.04503217],\n",
            "       [0.04360257],\n",
            "       [0.17126519],\n",
            "       [0.03831308],\n",
            "       [0.03245175],\n",
            "       [0.0347391 ],\n",
            "       [0.09549678],\n",
            "       [0.03588277],\n",
            "       [0.51165118],\n",
            "       [0.88777698],\n",
            "       [0.14167262],\n",
            "       [0.04388849],\n",
            "       [0.03959971],\n",
            "       [0.81558256],\n",
            "       [0.04002859],\n",
            "       [0.03459614],\n",
            "       [0.0470336 ],\n",
            "       [0.49949964],\n",
            "       [0.02373124],\n",
            "       [0.03130808],\n",
            "       [0.10550393],\n",
            "       [0.0393138 ],\n",
            "       [0.02716226],\n",
            "       [0.07376698],\n",
            "       [0.03488206],\n",
            "       [0.04731951],\n",
            "       [0.05961401],\n",
            "       [0.1035025 ],\n",
            "       [0.04045747],\n",
            "       [0.02458899],\n",
            "       [0.04860615],\n",
            "       [0.07776984],\n",
            "       [0.63059328],\n",
            "       [0.0238742 ],\n",
            "       [0.45904217],\n",
            "       [0.08606147],\n",
            "       [0.04360257],\n",
            "       [0.22902073],\n",
            "       [0.10922087],\n",
            "       [0.03631165],\n",
            "       [0.02187277],\n",
            "       [0.19285204],\n",
            "       [0.12694782],\n",
            "       [0.02887777],\n",
            "       [0.49292352],\n",
            "       [0.03702645],\n",
            "       [0.02058613],\n",
            "       [0.03659757],\n",
            "       [1.        ],\n",
            "       [0.21343817],\n",
            "       [0.0347391 ],\n",
            "       [0.1459614 ],\n",
            "       [0.2154396 ],\n",
            "       [0.03187991],\n",
            "       [0.03688349],\n",
            "       [0.03716941],\n",
            "       [0.04617584],\n",
            "       [0.02759114],\n",
            "       [0.02902073],\n",
            "       [0.01915654],\n",
            "       [0.161401  ],\n",
            "       [0.0726233 ],\n",
            "       [0.01329521],\n",
            "       [0.02930665],\n",
            "       [0.56654753],\n",
            "       [0.02659042],\n",
            "       [0.0192995 ],\n",
            "       [0.03316655],\n",
            "       [0.11679771],\n",
            "       [0.24017155],\n",
            "       [0.33266619],\n",
            "       [0.02601858],\n",
            "       [0.04145818],\n",
            "       [0.03445318],\n",
            "       [0.02430307],\n",
            "       [0.01829878],\n",
            "       [0.02759114],\n",
            "       [0.0161544 ],\n",
            "       [0.23488206],\n",
            "       [0.05346676],\n",
            "       [0.0501787 ],\n",
            "       [0.0301644 ],\n",
            "       [0.29492495],\n",
            "       [0.24603288],\n",
            "       [0.03230879],\n",
            "       [0.03302359],\n",
            "       [0.05375268],\n",
            "       [0.16440315],\n",
            "       [0.13095068],\n",
            "       [0.01901358],\n",
            "       [0.02616154],\n",
            "       [0.0501787 ],\n",
            "       [0.02587563],\n",
            "       [0.14424589],\n",
            "       [0.41272337],\n",
            "       [0.25761258],\n",
            "       [0.75739814],\n",
            "       [0.04117227],\n",
            "       [0.18613295],\n",
            "       [0.03045032],\n",
            "       [0.03202287],\n",
            "       [0.12308792],\n",
            "       [0.0301644 ],\n",
            "       [0.08977841],\n",
            "       [0.06461758],\n",
            "       [0.06733381],\n",
            "       [0.65360972],\n",
            "       [0.0378842 ],\n",
            "       [0.15525375],\n",
            "       [0.02673338],\n",
            "       [0.01887062],\n",
            "       [0.02530379],\n",
            "       [0.36654753],\n",
            "       [0.16368835],\n",
            "       [0.25589707],\n",
            "       [0.03831308],\n",
            "       [0.04374553],\n",
            "       [0.27176555],\n",
            "       [0.03259471],\n",
            "       [0.03416726],\n",
            "       [0.63516798],\n",
            "       [0.65989993],\n",
            "       [0.03516798],\n",
            "       [0.03988563],\n",
            "       [0.04517513],\n",
            "       [0.09921372],\n",
            "       [0.02358828],\n",
            "       [0.04789135],\n",
            "       [0.05932809],\n",
            "       [0.18884918],\n",
            "       [0.46390279],\n",
            "       [0.03059328],\n",
            "       [0.04774839],\n",
            "       [0.06433167],\n",
            "       [0.08663331],\n",
            "       [0.23045032],\n",
            "       [0.03488206],\n",
            "       [0.08191565],\n",
            "       [0.01958542],\n",
            "       [0.57955683],\n",
            "       [0.85646891],\n",
            "       [0.70593281],\n",
            "       [0.02844889],\n",
            "       [0.08791994],\n",
            "       [0.02201573],\n",
            "       [0.03888492],\n",
            "       [0.03330951],\n",
            "       [0.02544675],\n",
            "       [0.02344532],\n",
            "       [0.03316655],\n",
            "       [0.16997856],\n",
            "       [0.17941387],\n",
            "       [0.08649035],\n",
            "       [0.03273767],\n",
            "       [0.03902788],\n",
            "       [0.0347391 ],\n",
            "       [0.10850608],\n",
            "       [0.1073624 ],\n",
            "       [0.0733381 ],\n",
            "       [0.05589707],\n",
            "       [0.01515368],\n",
            "       [0.03045032],\n",
            "       [0.05732666],\n",
            "       [0.12994996],\n",
            "       [0.13638313],\n",
            "       [0.04488921],\n",
            "       [0.02530379],\n",
            "       [0.1119371 ],\n",
            "       [0.02673338],\n",
            "       [0.16611866],\n",
            "       [0.04231594],\n",
            "       [0.24817727],\n",
            "       [0.07319514],\n",
            "       [0.12180129],\n",
            "       [0.28734811],\n",
            "       [0.17283774],\n",
            "       [0.13981415],\n",
            "       [0.03945675],\n",
            "       [0.10407434],\n",
            "       [0.17097927],\n",
            "       [0.78827734],\n",
            "       [0.28062902],\n",
            "       [0.0301644 ],\n",
            "       [0.04746247],\n",
            "       [0.03516798],\n",
            "       [0.15310936],\n",
            "       [0.57598284],\n",
            "       [0.11794139],\n",
            "       [0.12709078],\n",
            "       [0.0238742 ],\n",
            "       [0.04203002],\n",
            "       [0.30092924],\n",
            "       [0.13552538],\n",
            "       [0.0417441 ],\n",
            "       [0.02030021],\n",
            "       [0.04474625],\n",
            "       [0.2533238 ],\n",
            "       [0.07047891],\n",
            "       [0.03187991],\n",
            "       [0.58441744],\n",
            "       [0.09563974],\n",
            "       [0.0347391 ],\n",
            "       [0.3606862 ],\n",
            "       [0.04031451],\n",
            "       [0.34824875],\n",
            "       [0.69106505],\n",
            "       [0.25003574],\n",
            "       [0.02072909],\n",
            "       [0.21286633],\n",
            "       [0.95268049],\n",
            "       [0.66304503],\n",
            "       [0.03817012],\n",
            "       [0.58670479],\n",
            "       [0.03173695],\n",
            "       [0.15253753],\n",
            "       [0.03959971],\n",
            "       [0.21915654],\n",
            "       [0.05589707],\n",
            "       [0.0161544 ],\n",
            "       [0.04102931],\n",
            "       [0.4270193 ],\n",
            "       [0.27491065],\n",
            "       [0.73238027],\n",
            "       [0.03759828],\n",
            "       [0.04517513],\n",
            "       [0.03959971],\n",
            "       [0.26819157],\n",
            "       [0.09235168],\n",
            "       [0.01729807],\n",
            "       [0.27919943],\n",
            "       [0.34152966],\n",
            "       [0.02873481],\n",
            "       [0.21401001],\n",
            "       [0.40943531],\n",
            "       [0.11536812],\n",
            "       [0.02430307],\n",
            "       [0.26061472],\n",
            "       [0.08849178],\n",
            "       [0.17641172],\n",
            "       [0.01786991],\n",
            "       [0.01744103],\n",
            "       [0.04474625],\n",
            "       [0.03302359],\n",
            "       [0.06533238],\n",
            "       [0.03616869],\n",
            "       [0.05117941],\n",
            "       [0.14867763],\n",
            "       [0.04031451],\n",
            "       [0.59914224],\n",
            "       [0.02115797],\n",
            "       [0.11722659],\n",
            "       [0.11493924],\n",
            "       [0.03817012],\n",
            "       [0.33995711],\n",
            "       [0.16426019],\n",
            "       [0.02887777],\n",
            "       [0.0694782 ],\n",
            "       [0.02358828],\n",
            "       [0.04203002],\n",
            "       [0.05704074],\n",
            "       [0.03045032],\n",
            "       [0.02930665],\n",
            "       [0.01243746],\n",
            "       [0.01186562],\n",
            "       [0.01772695],\n",
            "       [0.22330236],\n",
            "       [0.02959257],\n",
            "       [0.03616869],\n",
            "       [0.03988563],\n",
            "       [0.05175125],\n",
            "       [0.23645461],\n",
            "       [0.09621158],\n",
            "       [0.03259471],\n",
            "       [0.10507505],\n",
            "       [0.06733381],\n",
            "       [0.03130808],\n",
            "       [0.02573267],\n",
            "       [0.79842745],\n",
            "       [0.02430307],\n",
            "       [0.02373124],\n",
            "       [0.04131523],\n",
            "       [0.06733381],\n",
            "       [0.03817012],\n",
            "       [0.02659042],\n",
            "       [0.10178699],\n",
            "       [0.04374553],\n",
            "       [0.04303074],\n",
            "       [0.14653324],\n",
            "       [0.20028592],\n",
            "       [0.23187991],\n",
            "       [0.23488206],\n",
            "       [0.02944961],\n",
            "       [0.03945675],\n",
            "       [0.5807005 ],\n",
            "       [0.01486776],\n",
            "       [0.24160114],\n",
            "       [0.19113653],\n",
            "       [0.04331665],\n",
            "       [0.05761258],\n",
            "       [0.06461758],\n",
            "       [0.07977127],\n",
            "       [0.03273767],\n",
            "       [0.03245175],\n",
            "       [0.04102931],\n",
            "       [0.05904217],\n",
            "       [0.02487491],\n",
            "       [0.04517513],\n",
            "       [0.7659757 ],\n",
            "       [0.03116512],\n",
            "       [0.02673338],\n",
            "       [0.0431737 ],\n",
            "       [0.11651179],\n",
            "       [0.03173695],\n",
            "       [0.04217298],\n",
            "       [0.02959257],\n",
            "       [0.03345247],\n",
            "       [0.23130808],\n",
            "       [0.69764117],\n",
            "       [0.02587563],\n",
            "       [0.0508935 ],\n",
            "       [0.05060758],\n",
            "       [0.08291637],\n",
            "       [0.04974982],\n",
            "       [0.02802001],\n",
            "       [0.05103645],\n",
            "       [0.40300214],\n",
            "       [0.02987848],\n",
            "       [0.25132237],\n",
            "       [0.12094353],\n",
            "       [0.0231594 ],\n",
            "       [0.01300929],\n",
            "       [0.02587563],\n",
            "       [0.03173695],\n",
            "       [0.13180843],\n",
            "       [0.17955683],\n",
            "       [0.04803431],\n",
            "       [0.06361687],\n",
            "       [0.01243746],\n",
            "       [0.23988563],\n",
            "       [0.15382416],\n",
            "       [0.91765547],\n",
            "       [0.03588277],\n",
            "       [0.1196569 ],\n",
            "       [0.568406  ],\n",
            "       [0.02301644],\n",
            "       [0.03559685],\n",
            "       [0.01300929],\n",
            "       [0.46761973],\n",
            "       [0.10664761],\n",
            "       [0.05218013],\n",
            "       [0.03445318],\n",
            "       [0.03230879],\n",
            "       [0.80571837],\n",
            "       [0.02144389],\n",
            "       [0.22959257],\n",
            "       [0.27305218],\n",
            "       [0.05489635],\n",
            "       [0.36197284],\n",
            "       [0.02987848],\n",
            "       [0.08934954],\n",
            "       [0.27390994],\n",
            "       [0.11322373],\n",
            "       [0.04474625],\n",
            "       [0.01815583],\n",
            "       [0.05661187],\n",
            "       [0.03230879],\n",
            "       [0.02115797],\n",
            "       [0.03845604],\n",
            "       [0.11608292],\n",
            "       [0.12323088],\n",
            "       [0.63616869],\n",
            "       [0.01715511],\n",
            "       [0.03030736],\n",
            "       [0.02301644],\n",
            "       [0.44074339],\n",
            "       [0.05904217],\n",
            "       [0.04846319],\n",
            "       [0.03502502],\n",
            "       [0.06118656],\n",
            "       [0.06218728],\n",
            "       [0.11979986],\n",
            "       [0.03874196],\n",
            "       [0.64674768],\n",
            "       [0.03002144],\n",
            "       [0.39127949],\n",
            "       [0.09835597],\n",
            "       [0.12423159],\n",
            "       [0.04803431],\n",
            "       [0.40343102],\n",
            "       [0.22030021],\n",
            "       [0.13695497],\n",
            "       [0.19656898],\n",
            "       [0.02902073],\n",
            "       [0.80514653],\n",
            "       [0.02587563],\n",
            "       [0.01172266],\n",
            "       [0.27076483],\n",
            "       [0.01315225],\n",
            "       [0.03988563],\n",
            "       [0.05275197],\n",
            "       [0.20929235],\n",
            "       [0.25246605],\n",
            "       [0.02101501],\n",
            "       [0.55125089],\n",
            "       [0.03359543],\n",
            "       [0.15525375]])), 'test': (array([[[0.07376698],\n",
            "        [0.08291637],\n",
            "        [0.11536812],\n",
            "        ...,\n",
            "        [0.24817727],\n",
            "        [0.22644746],\n",
            "        [0.20929235]],\n",
            "\n",
            "       [[0.02587563],\n",
            "        [0.03259471],\n",
            "        [0.04102931],\n",
            "        ...,\n",
            "        [0.03559685],\n",
            "        [0.01786991],\n",
            "        [0.02987848]],\n",
            "\n",
            "       [[0.0347391 ],\n",
            "        [0.0301644 ],\n",
            "        [0.03702645],\n",
            "        ...,\n",
            "        [0.04546104],\n",
            "        [0.03359543],\n",
            "        [0.02373124]],\n",
            "\n",
            "       ...,\n",
            "\n",
            "       [[0.0301644 ],\n",
            "        [0.03187991],\n",
            "        [0.0347391 ],\n",
            "        ...,\n",
            "        [0.03459614],\n",
            "        [0.02644746],\n",
            "        [0.03230879]],\n",
            "\n",
            "       [[0.0417441 ],\n",
            "        [0.03759828],\n",
            "        [0.04231594],\n",
            "        ...,\n",
            "        [0.0238742 ],\n",
            "        [0.04217298],\n",
            "        [0.03030736]],\n",
            "\n",
            "       [[0.03302359],\n",
            "        [0.04002859],\n",
            "        [0.03459614],\n",
            "        ...,\n",
            "        [0.02487491],\n",
            "        [0.03045032],\n",
            "        [0.04517513]]]), array([[0.21529664],\n",
            "       [0.04274482],\n",
            "       [0.03359543],\n",
            "       [0.21315225],\n",
            "       [0.03588277],\n",
            "       [0.03059328],\n",
            "       [0.05503931],\n",
            "       [0.25689778],\n",
            "       [0.20371694],\n",
            "       [0.36769121],\n",
            "       [0.02716226],\n",
            "       [0.21401001],\n",
            "       [0.0270193 ],\n",
            "       [0.06847748],\n",
            "       [0.03202287],\n",
            "       [0.26032881],\n",
            "       [0.04546104],\n",
            "       [0.03416726],\n",
            "       [0.0733381 ],\n",
            "       [0.031594  ],\n",
            "       [0.0238742 ],\n",
            "       [0.04231594],\n",
            "       [0.15125089],\n",
            "       [0.41243746],\n",
            "       [0.04131523],\n",
            "       [0.06776269],\n",
            "       [0.03459614],\n",
            "       [0.16826305],\n",
            "       [0.11479628],\n",
            "       [0.03273767],\n",
            "       [0.05875625],\n",
            "       [0.04989278],\n",
            "       [0.16182988],\n",
            "       [0.03974267],\n",
            "       [0.04274482],\n",
            "       [0.02115797],\n",
            "       [0.05489635],\n",
            "       [0.02644746],\n",
            "       [0.25360972],\n",
            "       [0.22902073],\n",
            "       [0.14381701],\n",
            "       [0.04474625],\n",
            "       [0.05275197],\n",
            "       [0.0263045 ],\n",
            "       [0.04517513],\n",
            "       [0.00600429],\n",
            "       [0.01701215],\n",
            "       [0.03102216],\n",
            "       [0.045604  ]]))}\n"
          ]
        }
      ]
    },
    {
      "cell_type": "code",
      "metadata": {
        "id": "jE4xyFrOoKMC"
      },
      "source": [
        ""
      ],
      "execution_count": null,
      "outputs": []
    },
    {
      "cell_type": "markdown",
      "metadata": {
        "id": "03h_dQbjnTiW"
      },
      "source": [
        "## Get the model"
      ]
    },
    {
      "cell_type": "code",
      "metadata": {
        "id": "6WfyzpGLnTK8"
      },
      "source": [
        ""
      ],
      "execution_count": null,
      "outputs": []
    },
    {
      "cell_type": "code",
      "metadata": {
        "id": "S4SaqAKgLRny"
      },
      "source": [
        "model = C.get_model()"
      ],
      "execution_count": null,
      "outputs": []
    },
    {
      "cell_type": "code",
      "metadata": {
        "colab": {
          "base_uri": "https://localhost:8080/"
        },
        "id": "VEH4lVLtnWnt",
        "outputId": "1b04aff8-2bf5-4520-b7a3-f363d962e9f4"
      },
      "source": [
        "model.summary()"
      ],
      "execution_count": null,
      "outputs": [
        {
          "output_type": "stream",
          "name": "stdout",
          "text": [
            "Model: \"covid_pred_model_1\"\n",
            "_________________________________________________________________\n",
            "Layer (type)                 Output Shape              Param #   \n",
            "=================================================================\n",
            "lstm_2 (LSTM)                multiple                  4202496   \n",
            "_________________________________________________________________\n",
            "lstm_3 (LSTM)                multiple                  787456    \n",
            "_________________________________________________________________\n",
            "dense_5 (Dense)              multiple                  524800    \n",
            "_________________________________________________________________\n",
            "dense_6 (Dense)              multiple                  32896     \n",
            "_________________________________________________________________\n",
            "dense_7 (Dense)              multiple                  8256      \n",
            "_________________________________________________________________\n",
            "dense_8 (Dense)              multiple                  2080      \n",
            "_________________________________________________________________\n",
            "dropout_1 (Dropout)          multiple                  0         \n",
            "_________________________________________________________________\n",
            "dense_9 (Dense)              multiple                  33        \n",
            "=================================================================\n",
            "Total params: 5,558,017\n",
            "Trainable params: 5,558,017\n",
            "Non-trainable params: 0\n",
            "_________________________________________________________________\n"
          ]
        }
      ]
    },
    {
      "cell_type": "code",
      "metadata": {
        "id": "ytfdJqxAoKlz"
      },
      "source": [
        ""
      ],
      "execution_count": null,
      "outputs": []
    },
    {
      "cell_type": "markdown",
      "metadata": {
        "id": "PwSU33ULnXHO"
      },
      "source": [
        "## Train the model"
      ]
    },
    {
      "cell_type": "code",
      "metadata": {
        "id": "8GyRV27TnXh-"
      },
      "source": [
        ""
      ],
      "execution_count": null,
      "outputs": []
    },
    {
      "cell_type": "code",
      "metadata": {
        "colab": {
          "base_uri": "https://localhost:8080/",
          "height": 1000
        },
        "id": "mAmL2ClQLhzo",
        "outputId": "20d4feb3-8d8d-4ef3-ca98-6f4bd49e1406"
      },
      "source": [
        "C.train(data = data,\n",
        "        model = model)"
      ],
      "execution_count": null,
      "outputs": [
        {
          "output_type": "stream",
          "name": "stdout",
          "text": [
            "Starting the tarnning ... \n",
            "Epoch 1/30\n",
            "10/10 [==============================] - 5s 186ms/step - loss: 63.3057 - val_loss: 45.6030\n"
          ]
        },
        {
          "output_type": "stream",
          "name": "stderr",
          "text": [
            "WARNING:absl:Found untraced functions such as lstm_cell_2_layer_call_and_return_conditional_losses, lstm_cell_2_layer_call_fn, lstm_cell_3_layer_call_and_return_conditional_losses, lstm_cell_3_layer_call_fn, lstm_cell_2_layer_call_fn while saving (showing 5 of 10). These functions will not be directly callable after loading.\n"
          ]
        },
        {
          "output_type": "stream",
          "name": "stdout",
          "text": [
            "INFO:tensorflow:Assets written to: Data/saved_model/assets\n"
          ]
        },
        {
          "output_type": "stream",
          "name": "stderr",
          "text": [
            "INFO:tensorflow:Assets written to: Data/saved_model/assets\n"
          ]
        },
        {
          "output_type": "stream",
          "name": "stdout",
          "text": [
            "Epoch 2/30\n",
            "10/10 [==============================] - 1s 72ms/step - loss: 52.7305 - val_loss: 42.1808\n"
          ]
        },
        {
          "output_type": "stream",
          "name": "stderr",
          "text": [
            "WARNING:absl:Found untraced functions such as lstm_cell_2_layer_call_and_return_conditional_losses, lstm_cell_2_layer_call_fn, lstm_cell_3_layer_call_and_return_conditional_losses, lstm_cell_3_layer_call_fn, lstm_cell_2_layer_call_fn while saving (showing 5 of 10). These functions will not be directly callable after loading.\n"
          ]
        },
        {
          "output_type": "stream",
          "name": "stdout",
          "text": [
            "INFO:tensorflow:Assets written to: Data/saved_model/assets\n"
          ]
        },
        {
          "output_type": "stream",
          "name": "stderr",
          "text": [
            "INFO:tensorflow:Assets written to: Data/saved_model/assets\n"
          ]
        },
        {
          "output_type": "stream",
          "name": "stdout",
          "text": [
            "Epoch 3/30\n",
            "10/10 [==============================] - 1s 85ms/step - loss: 43.6375 - val_loss: 36.1680\n"
          ]
        },
        {
          "output_type": "stream",
          "name": "stderr",
          "text": [
            "WARNING:absl:Found untraced functions such as lstm_cell_2_layer_call_and_return_conditional_losses, lstm_cell_2_layer_call_fn, lstm_cell_3_layer_call_and_return_conditional_losses, lstm_cell_3_layer_call_fn, lstm_cell_2_layer_call_fn while saving (showing 5 of 10). These functions will not be directly callable after loading.\n"
          ]
        },
        {
          "output_type": "stream",
          "name": "stdout",
          "text": [
            "INFO:tensorflow:Assets written to: Data/saved_model/assets\n"
          ]
        },
        {
          "output_type": "stream",
          "name": "stderr",
          "text": [
            "INFO:tensorflow:Assets written to: Data/saved_model/assets\n"
          ]
        },
        {
          "output_type": "stream",
          "name": "stdout",
          "text": [
            "Epoch 4/30\n",
            "10/10 [==============================] - 1s 79ms/step - loss: 39.3614 - val_loss: 34.6439\n"
          ]
        },
        {
          "output_type": "stream",
          "name": "stderr",
          "text": [
            "WARNING:absl:Found untraced functions such as lstm_cell_2_layer_call_and_return_conditional_losses, lstm_cell_2_layer_call_fn, lstm_cell_3_layer_call_and_return_conditional_losses, lstm_cell_3_layer_call_fn, lstm_cell_2_layer_call_fn while saving (showing 5 of 10). These functions will not be directly callable after loading.\n"
          ]
        },
        {
          "output_type": "stream",
          "name": "stdout",
          "text": [
            "INFO:tensorflow:Assets written to: Data/saved_model/assets\n"
          ]
        },
        {
          "output_type": "stream",
          "name": "stderr",
          "text": [
            "INFO:tensorflow:Assets written to: Data/saved_model/assets\n"
          ]
        },
        {
          "output_type": "stream",
          "name": "stdout",
          "text": [
            "Epoch 5/30\n",
            "10/10 [==============================] - 1s 71ms/step - loss: 34.1906 - val_loss: 33.9459\n"
          ]
        },
        {
          "output_type": "stream",
          "name": "stderr",
          "text": [
            "WARNING:absl:Found untraced functions such as lstm_cell_2_layer_call_and_return_conditional_losses, lstm_cell_2_layer_call_fn, lstm_cell_3_layer_call_and_return_conditional_losses, lstm_cell_3_layer_call_fn, lstm_cell_2_layer_call_fn while saving (showing 5 of 10). These functions will not be directly callable after loading.\n"
          ]
        },
        {
          "output_type": "stream",
          "name": "stdout",
          "text": [
            "INFO:tensorflow:Assets written to: Data/saved_model/assets\n"
          ]
        },
        {
          "output_type": "stream",
          "name": "stderr",
          "text": [
            "INFO:tensorflow:Assets written to: Data/saved_model/assets\n"
          ]
        },
        {
          "output_type": "stream",
          "name": "stdout",
          "text": [
            "Epoch 6/30\n",
            "10/10 [==============================] - 1s 84ms/step - loss: 41.4429 - val_loss: 34.5732\n",
            "Epoch 7/30\n",
            "10/10 [==============================] - 1s 71ms/step - loss: 35.3728 - val_loss: 32.7443\n",
            "Epoch 8/30\n",
            "10/10 [==============================] - 1s 69ms/step - loss: 37.8558 - val_loss: 32.2602\n",
            "Epoch 9/30\n",
            "10/10 [==============================] - 1s 71ms/step - loss: 34.1920 - val_loss: 30.7922\n",
            "Epoch 10/30\n",
            "10/10 [==============================] - 1s 72ms/step - loss: 33.5577 - val_loss: 28.1369\n"
          ]
        },
        {
          "output_type": "stream",
          "name": "stderr",
          "text": [
            "WARNING:absl:Found untraced functions such as lstm_cell_2_layer_call_and_return_conditional_losses, lstm_cell_2_layer_call_fn, lstm_cell_3_layer_call_and_return_conditional_losses, lstm_cell_3_layer_call_fn, lstm_cell_2_layer_call_fn while saving (showing 5 of 10). These functions will not be directly callable after loading.\n"
          ]
        },
        {
          "output_type": "stream",
          "name": "stdout",
          "text": [
            "INFO:tensorflow:Assets written to: Data/saved_model/assets\n"
          ]
        },
        {
          "output_type": "stream",
          "name": "stderr",
          "text": [
            "INFO:tensorflow:Assets written to: Data/saved_model/assets\n"
          ]
        },
        {
          "output_type": "stream",
          "name": "stdout",
          "text": [
            "Epoch 11/30\n",
            "10/10 [==============================] - 1s 71ms/step - loss: 33.0275 - val_loss: 32.9909\n"
          ]
        },
        {
          "output_type": "stream",
          "name": "stderr",
          "text": [
            "WARNING:absl:Found untraced functions such as lstm_cell_2_layer_call_and_return_conditional_losses, lstm_cell_2_layer_call_fn, lstm_cell_3_layer_call_and_return_conditional_losses, lstm_cell_3_layer_call_fn, lstm_cell_2_layer_call_fn while saving (showing 5 of 10). These functions will not be directly callable after loading.\n"
          ]
        },
        {
          "output_type": "stream",
          "name": "stdout",
          "text": [
            "INFO:tensorflow:Assets written to: Data/saved_model/assets\n"
          ]
        },
        {
          "output_type": "stream",
          "name": "stderr",
          "text": [
            "INFO:tensorflow:Assets written to: Data/saved_model/assets\n"
          ]
        },
        {
          "output_type": "stream",
          "name": "stdout",
          "text": [
            "Epoch 12/30\n",
            "10/10 [==============================] - 1s 69ms/step - loss: 34.3071 - val_loss: 28.7812\n",
            "Epoch 13/30\n",
            "10/10 [==============================] - 1s 70ms/step - loss: 32.8572 - val_loss: 30.8407\n"
          ]
        },
        {
          "output_type": "stream",
          "name": "stderr",
          "text": [
            "WARNING:absl:Found untraced functions such as lstm_cell_2_layer_call_and_return_conditional_losses, lstm_cell_2_layer_call_fn, lstm_cell_3_layer_call_and_return_conditional_losses, lstm_cell_3_layer_call_fn, lstm_cell_2_layer_call_fn while saving (showing 5 of 10). These functions will not be directly callable after loading.\n"
          ]
        },
        {
          "output_type": "stream",
          "name": "stdout",
          "text": [
            "INFO:tensorflow:Assets written to: Data/saved_model/assets\n"
          ]
        },
        {
          "output_type": "stream",
          "name": "stderr",
          "text": [
            "INFO:tensorflow:Assets written to: Data/saved_model/assets\n"
          ]
        },
        {
          "output_type": "stream",
          "name": "stdout",
          "text": [
            "Epoch 14/30\n",
            "10/10 [==============================] - 1s 87ms/step - loss: 31.8364 - val_loss: 29.0962\n"
          ]
        },
        {
          "output_type": "stream",
          "name": "stderr",
          "text": [
            "WARNING:absl:Found untraced functions such as lstm_cell_2_layer_call_and_return_conditional_losses, lstm_cell_2_layer_call_fn, lstm_cell_3_layer_call_and_return_conditional_losses, lstm_cell_3_layer_call_fn, lstm_cell_2_layer_call_fn while saving (showing 5 of 10). These functions will not be directly callable after loading.\n"
          ]
        },
        {
          "output_type": "stream",
          "name": "stdout",
          "text": [
            "INFO:tensorflow:Assets written to: Data/saved_model/assets\n"
          ]
        },
        {
          "output_type": "stream",
          "name": "stderr",
          "text": [
            "INFO:tensorflow:Assets written to: Data/saved_model/assets\n"
          ]
        },
        {
          "output_type": "stream",
          "name": "stdout",
          "text": [
            "Epoch 15/30\n",
            "10/10 [==============================] - 1s 70ms/step - loss: 31.6708 - val_loss: 29.4487\n"
          ]
        },
        {
          "output_type": "stream",
          "name": "stderr",
          "text": [
            "WARNING:absl:Found untraced functions such as lstm_cell_2_layer_call_and_return_conditional_losses, lstm_cell_2_layer_call_fn, lstm_cell_3_layer_call_and_return_conditional_losses, lstm_cell_3_layer_call_fn, lstm_cell_2_layer_call_fn while saving (showing 5 of 10). These functions will not be directly callable after loading.\n"
          ]
        },
        {
          "output_type": "stream",
          "name": "stdout",
          "text": [
            "INFO:tensorflow:Assets written to: Data/saved_model/assets\n"
          ]
        },
        {
          "output_type": "stream",
          "name": "stderr",
          "text": [
            "INFO:tensorflow:Assets written to: Data/saved_model/assets\n"
          ]
        },
        {
          "output_type": "stream",
          "name": "stdout",
          "text": [
            "Epoch 16/30\n",
            "10/10 [==============================] - 1s 70ms/step - loss: 31.0573 - val_loss: 30.6325\n"
          ]
        },
        {
          "output_type": "stream",
          "name": "stderr",
          "text": [
            "WARNING:absl:Found untraced functions such as lstm_cell_2_layer_call_and_return_conditional_losses, lstm_cell_2_layer_call_fn, lstm_cell_3_layer_call_and_return_conditional_losses, lstm_cell_3_layer_call_fn, lstm_cell_2_layer_call_fn while saving (showing 5 of 10). These functions will not be directly callable after loading.\n"
          ]
        },
        {
          "output_type": "stream",
          "name": "stdout",
          "text": [
            "INFO:tensorflow:Assets written to: Data/saved_model/assets\n"
          ]
        },
        {
          "output_type": "stream",
          "name": "stderr",
          "text": [
            "INFO:tensorflow:Assets written to: Data/saved_model/assets\n"
          ]
        },
        {
          "output_type": "stream",
          "name": "stdout",
          "text": [
            "Epoch 17/30\n",
            "10/10 [==============================] - 1s 86ms/step - loss: 33.4700 - val_loss: 32.0660\n",
            "Epoch 18/30\n",
            "10/10 [==============================] - 1s 73ms/step - loss: 31.9418 - val_loss: 33.4517\n",
            "Epoch 19/30\n",
            "10/10 [==============================] - 1s 72ms/step - loss: 31.2389 - val_loss: 30.9878\n",
            "Epoch 20/30\n",
            "10/10 [==============================] - 1s 73ms/step - loss: 31.5467 - val_loss: 28.5719\n",
            "Epoch 21/30\n",
            "10/10 [==============================] - 1s 72ms/step - loss: 32.0846 - val_loss: 30.5455\n",
            "Epoch 22/30\n",
            "10/10 [==============================] - 1s 72ms/step - loss: 34.0487 - val_loss: 32.2449\n",
            "Epoch 23/30\n",
            "10/10 [==============================] - 1s 73ms/step - loss: 31.6451 - val_loss: 30.0585\n",
            "Epoch 24/30\n",
            "10/10 [==============================] - 1s 72ms/step - loss: 31.1205 - val_loss: 32.3868\n",
            "Epoch 25/30\n",
            "10/10 [==============================] - 1s 70ms/step - loss: 31.5063 - val_loss: 31.3576\n",
            "Epoch 26/30\n",
            "10/10 [==============================] - 1s 72ms/step - loss: 31.9068 - val_loss: 34.4672\n",
            "Epoch 27/30\n",
            "10/10 [==============================] - 1s 72ms/step - loss: 32.3739 - val_loss: 28.7693\n",
            "Epoch 28/30\n",
            "10/10 [==============================] - 1s 72ms/step - loss: 31.1692 - val_loss: 32.1206\n",
            "Epoch 29/30\n",
            "10/10 [==============================] - 1s 72ms/step - loss: 30.5285 - val_loss: 28.5393\n"
          ]
        },
        {
          "output_type": "stream",
          "name": "stderr",
          "text": [
            "WARNING:absl:Found untraced functions such as lstm_cell_2_layer_call_and_return_conditional_losses, lstm_cell_2_layer_call_fn, lstm_cell_3_layer_call_and_return_conditional_losses, lstm_cell_3_layer_call_fn, lstm_cell_2_layer_call_fn while saving (showing 5 of 10). These functions will not be directly callable after loading.\n"
          ]
        },
        {
          "output_type": "stream",
          "name": "stdout",
          "text": [
            "INFO:tensorflow:Assets written to: Data/saved_model/assets\n"
          ]
        },
        {
          "output_type": "stream",
          "name": "stderr",
          "text": [
            "INFO:tensorflow:Assets written to: Data/saved_model/assets\n"
          ]
        },
        {
          "output_type": "stream",
          "name": "stdout",
          "text": [
            "Epoch 30/30\n",
            "10/10 [==============================] - 1s 72ms/step - loss: 30.1330 - val_loss: 28.9441\n"
          ]
        },
        {
          "output_type": "stream",
          "name": "stderr",
          "text": [
            "WARNING:absl:Found untraced functions such as lstm_cell_2_layer_call_and_return_conditional_losses, lstm_cell_2_layer_call_fn, lstm_cell_3_layer_call_and_return_conditional_losses, lstm_cell_3_layer_call_fn, lstm_cell_2_layer_call_fn while saving (showing 5 of 10). These functions will not be directly callable after loading.\n"
          ]
        },
        {
          "output_type": "stream",
          "name": "stdout",
          "text": [
            "INFO:tensorflow:Assets written to: Data/saved_model/assets\n"
          ]
        },
        {
          "output_type": "stream",
          "name": "stderr",
          "text": [
            "INFO:tensorflow:Assets written to: Data/saved_model/assets\n"
          ]
        },
        {
          "output_type": "stream",
          "name": "stdout",
          "text": [
            "\n",
            "\n",
            "\n"
          ]
        },
        {
          "output_type": "display_data",
          "data": {
            "image/png": "[encoded data removed]",
            "text/plain": [
              "<Figure size 1152x648 with 1 Axes>"
            ]
          },
          "metadata": {
            "needs_background": "light"
          }
        },
        {
          "output_type": "execute_result",
          "data": {
            "text/plain": [
              "<keras.callbacks.History at 0x7ff7848e5f10>"
            ]
          },
          "metadata": {},
          "execution_count": 17
        }
      ]
    },
    {
      "cell_type": "code",
      "metadata": {
        "id": "ICEdL_4cncZc"
      },
      "source": [
        ""
      ],
      "execution_count": null,
      "outputs": []
    },
    {
      "cell_type": "markdown",
      "metadata": {
        "id": "bobYu_mKnc8D"
      },
      "source": [
        "## Display the results \n",
        "\n",
        "\n",
        "* #### the first graph represents the prediction and actual for the seen data \n",
        "\n",
        "\n",
        "* #### the second graph represents the prediction on the future unseen data\n",
        "\n"
      ]
    },
    {
      "cell_type": "code",
      "metadata": {
        "id": "o6rlkom6ncYE"
      },
      "source": [
        ""
      ],
      "execution_count": null,
      "outputs": []
    },
    {
      "cell_type": "code",
      "metadata": {
        "colab": {
          "base_uri": "https://localhost:8080/",
          "height": 1000
        },
        "id": "9wKYmA1ULmUr",
        "outputId": "441601c0-d7ef-4a5e-80f7-df9475f019d5"
      },
      "source": [
        "C.show_results(model = model,\n",
        "               data = data,\n",
        "               future_date = 30) # no. of days to show the feuture trend"
      ],
      "execution_count": null,
      "outputs": [
        {
          "output_type": "display_data",
          "data": {
            "image/png": "[encoded data removed]",
            "text/plain": [
              "<Figure size 1152x648 with 1 Axes>"
            ]
          },
          "metadata": {
            "needs_background": "light"
          }
        },
        {
          "output_type": "stream",
          "name": "stdout",
          "text": [
            "\n",
            "\n",
            "\n",
            "\n"
          ]
        },
        {
          "output_type": "display_data",
          "data": {
            "image/png": "[encoded data removed]",
            "text/plain": [
              "<Figure size 1152x648 with 1 Axes>"
            ]
          },
          "metadata": {
            "needs_background": "light"
          }
        }
      ]
    },
    {
      "cell_type": "code",
      "metadata": {
        "id": "YSjtAbKkMoBC"
      },
      "source": [
        ""
      ],
      "execution_count": null,
      "outputs": []
    }
  ]
}