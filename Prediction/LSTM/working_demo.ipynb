{
  "nbformat": 4,
  "nbformat_minor": 0,
  "metadata": {
    "colab": {
      "name": "working_demo.ipynb",
      "provenance": [],
      "collapsed_sections": []
    },
    "kernelspec": {
      "name": "python3",
      "display_name": "Python 3"
    },
    "language_info": {
      "name": "python"
    },
    "accelerator": "GPU"
  },
  "cells": [
    {
      "cell_type": "code",
      "metadata": {
        "colab": {
          "base_uri": "https://localhost:8080/"
        },
        "id": "dr4x6hq8H1gu",
        "outputId": "3c60f3f8-e2f6-4d98-b06b-e7c30dc0c3cf"
      },
      "source": [
        "! unzip /content/LSTM.zip"
      ],
      "execution_count": 1,
      "outputs": [
        {
          "output_type": "stream",
          "name": "stdout",
          "text": [
            "Archive:  /content/LSTM.zip\n",
            "   creating: LSTM/\n",
            "  inflating: LSTM/working_demo.ipynb  \n",
            "   creating: LSTM/src/\n",
            "   creating: LSTM/src/LSTM_model/\n",
            "  inflating: LSTM/src/LSTM_model/filer.txt  \n",
            "  inflating: LSTM/src/LSTM_model/train.py  \n",
            "  inflating: LSTM/src/LSTM_model/infer.py  \n",
            "  inflating: LSTM/src/LSTM_model/model.py  \n",
            "   creating: LSTM/src/LSTM_model/tests/\n",
            "  inflating: LSTM/src/LSTM_model/tests/train_test.py  \n",
            "  inflating: LSTM/src/LSTM_model/tests/infer_test.py  \n",
            "  inflating: LSTM/src/LSTM_model/tests/filer.txt  \n",
            "  inflating: LSTM/src/LSTM_model/tests/model_test.py  \n",
            "  inflating: LSTM/src/filer.txt      \n",
            "   creating: LSTM/src/Data/\n",
            "  inflating: LSTM/src/Data/filer.txt  \n",
            "  inflating: LSTM/src/Data/data.py   \n",
            "   creating: LSTM/src/Data/tests/\n",
            "  inflating: LSTM/src/Data/tests/data_test.py  \n",
            "  inflating: LSTM/src/Data/tests/filer.txt  \n",
            "   creating: LSTM/src/_helper/\n",
            "   creating: LSTM/src/_helper/tests/\n",
            "  inflating: LSTM/src/_helper/tests/filer.txt  \n",
            "  inflating: LSTM/src/_helper/helper.py  \n",
            "  inflating: LSTM/src/_helper/filer.txt  \n",
            "  inflating: LSTM/main.py            \n",
            "   creating: LSTM/tests/\n",
            "  inflating: LSTM/tests/filer.txt    \n",
            "   creating: LSTM/Data/\n",
            "   creating: LSTM/Data/saved_model/\n",
            "  inflating: LSTM/Data/saved_model/filer.txt  \n",
            "  inflating: LSTM/Data/filer.txt     \n"
          ]
        }
      ]
    },
    {
      "cell_type": "markdown",
      "metadata": {
        "id": "OgvzeT11jXbR"
      },
      "source": [
        "# Covid-19 confirmed cases prediction System"
      ]
    },
    {
      "cell_type": "code",
      "metadata": {
        "id": "9CT-lKhfjXBg"
      },
      "source": [
        ""
      ],
      "execution_count": null,
      "outputs": []
    },
    {
      "cell_type": "markdown",
      "metadata": {
        "id": "XzKmwNVEjnYw"
      },
      "source": [
        "* #### The system is designed to work on the real-time data to capture the ongoing trend\n",
        "\n",
        "\n",
        "* #### Data is downloaded from the web site which provides the real-time data and then it’s stored in the local storage\n",
        "\n",
        "* #### Data then preprocessed and presented in the required format \n",
        "\n",
        "* #### Here we have used LSTM based RNN model for the time series prediction \n",
        "\n",
        "* #### Once the data is cleaned, it is used to train the model \n",
        "\n",
        "* #### Once the model is trained we use it for the inference and results are shown in the graph format\n"
      ]
    },
    {
      "cell_type": "code",
      "metadata": {
        "id": "Jmhj6SjyjlXG"
      },
      "source": [
        ""
      ],
      "execution_count": null,
      "outputs": []
    },
    {
      "cell_type": "code",
      "metadata": {
        "id": "vsdUfhjTlQsz"
      },
      "source": [
        ""
      ],
      "execution_count": null,
      "outputs": []
    },
    {
      "cell_type": "markdown",
      "metadata": {
        "id": "qE1UvmRultQO"
      },
      "source": [
        "## Code description"
      ]
    },
    {
      "cell_type": "code",
      "metadata": {
        "id": "SpQPCpLwls4y"
      },
      "source": [
        ""
      ],
      "execution_count": null,
      "outputs": []
    },
    {
      "cell_type": "markdown",
      "metadata": {
        "id": "u5Wsbgislw7t"
      },
      "source": [
        "* #### Complete functionalities is written in the src folder and presented in the main.py in an abstract way \n",
        "\n",
        "\n",
        "* #### Data reletated functionalities are implemented in the src.Data and model is implemented in the src.LSTM_model ( tests are included in the same )\n",
        "\n",
        "* #### Helper functionalities ae implemented in the src._helper\n"
      ]
    },
    {
      "cell_type": "code",
      "metadata": {
        "id": "cZ5Fk82glsw-"
      },
      "source": [
        ""
      ],
      "execution_count": null,
      "outputs": []
    },
    {
      "cell_type": "code",
      "metadata": {
        "id": "RIqwlQQTnGYs"
      },
      "source": [
        ""
      ],
      "execution_count": null,
      "outputs": []
    },
    {
      "cell_type": "markdown",
      "metadata": {
        "id": "pBFx_sejnG3E"
      },
      "source": [
        "## Setup the Core"
      ]
    },
    {
      "cell_type": "code",
      "metadata": {
        "id": "DCt51UlYK8VG"
      },
      "source": [
        "from main import Core\n",
        "\n",
        "C = Core(\n",
        "    n_steps = 30, # no. of days to consider for prediction\n",
        "    optimizer='adam',\n",
        "    loss='mape',\n",
        "    batch_size = 128,\n",
        "    epochs = 300,\n",
        "    steps_per_epoch = 10,\n",
        "    test_split = 0.1,\n",
        "    validation_steps = 5,\n",
        "    model_path = 'Data/saved_model/' # path to store the trained model \n",
        ")"
      ],
      "execution_count": 9,
      "outputs": []
    },
    {
      "cell_type": "code",
      "metadata": {
        "id": "fFPrUc4LnJmq"
      },
      "source": [
        ""
      ],
      "execution_count": 9,
      "outputs": []
    },
    {
      "cell_type": "markdown",
      "metadata": {
        "id": "FMzBHF2NnKjG"
      },
      "source": [
        "## Get the data"
      ]
    },
    {
      "cell_type": "code",
      "metadata": {
        "id": "A29bXS4bnKTv"
      },
      "source": [
        ""
      ],
      "execution_count": 9,
      "outputs": []
    },
    {
      "cell_type": "code",
      "metadata": {
        "id": "ch84i5_qLM44"
      },
      "source": [
        "data = C.get_data()"
      ],
      "execution_count": 10,
      "outputs": []
    },
    {
      "cell_type": "code",
      "metadata": {
        "colab": {
          "base_uri": "https://localhost:8080/"
        },
        "id": "UPC6vUsxnSpr",
        "outputId": "b496ccf5-8b9e-42a6-c165-f8f9ca73ca70"
      },
      "source": [
        "print(data)"
      ],
      "execution_count": 11,
      "outputs": [
        {
          "output_type": "stream",
          "name": "stdout",
          "text": [
            "{'train': (array([[[0.14167262],\n",
            "        [0.12694782],\n",
            "        [0.11608292],\n",
            "        ...,\n",
            "        [0.15525375],\n",
            "        [0.20371694],\n",
            "        [0.17641172]],\n",
            "\n",
            "       [[0.02716226],\n",
            "        [0.02344532],\n",
            "        [0.05489635],\n",
            "        ...,\n",
            "        [0.04789135],\n",
            "        [0.05346676],\n",
            "        [0.08649035]],\n",
            "\n",
            "       [[0.29492495],\n",
            "        [0.27176555],\n",
            "        [0.27491065],\n",
            "        ...,\n",
            "        [0.08977841],\n",
            "        [0.13638313],\n",
            "        [0.1119371 ]],\n",
            "\n",
            "       ...,\n",
            "\n",
            "       [[0.63059328],\n",
            "        [0.36197284],\n",
            "        [0.45904217],\n",
            "        ...,\n",
            "        [0.568406  ],\n",
            "        [0.65989993],\n",
            "        [0.3606862 ]],\n",
            "\n",
            "       [[0.03831308],\n",
            "        [0.04546104],\n",
            "        [0.0347391 ],\n",
            "        ...,\n",
            "        [0.03731237],\n",
            "        [0.04731951],\n",
            "        [0.04546104]],\n",
            "\n",
            "       [[0.21529664],\n",
            "        [0.13967119],\n",
            "        [0.16368835],\n",
            "        ...,\n",
            "        [0.22030021],\n",
            "        [0.22330236],\n",
            "        [0.1729807 ]]]), array([[0.18227305],\n",
            "       [0.02816297],\n",
            "       [0.09749821],\n",
            "       [0.26661901],\n",
            "       [0.07634024],\n",
            "       [0.22644746],\n",
            "       [0.03774124],\n",
            "       [0.22430307],\n",
            "       [0.03045032],\n",
            "       [0.01686919],\n",
            "       [0.03616869],\n",
            "       [0.1035025 ],\n",
            "       [0.18484632],\n",
            "       [0.44260186],\n",
            "       [0.03316655],\n",
            "       [0.02873481],\n",
            "       [0.0161544 ],\n",
            "       [0.27862759],\n",
            "       [0.03731237],\n",
            "       [0.04546104],\n",
            "       [0.1729807 ],\n",
            "       [0.0301644 ],\n",
            "       [0.01972838],\n",
            "       [0.13967119],\n",
            "       [0.24074339],\n",
            "       [0.02730522],\n",
            "       [0.04374553],\n",
            "       [0.24660472],\n",
            "       [0.23959971],\n",
            "       [0.0224446 ],\n",
            "       [0.03774124],\n",
            "       [0.7691208 ],\n",
            "       [0.13852752],\n",
            "       [0.04503217],\n",
            "       [0.04360257],\n",
            "       [0.17126519],\n",
            "       [0.03831308],\n",
            "       [0.03245175],\n",
            "       [0.0347391 ],\n",
            "       [0.09549678],\n",
            "       [0.03588277],\n",
            "       [0.51165118],\n",
            "       [0.88777698],\n",
            "       [0.14167262],\n",
            "       [0.04388849],\n",
            "       [0.03959971],\n",
            "       [0.81558256],\n",
            "       [0.04002859],\n",
            "       [0.03459614],\n",
            "       [0.0470336 ],\n",
            "       [0.49949964],\n",
            "       [0.02373124],\n",
            "       [0.03130808],\n",
            "       [0.10550393],\n",
            "       [0.0393138 ],\n",
            "       [0.02716226],\n",
            "       [0.07376698],\n",
            "       [0.03488206],\n",
            "       [0.04731951],\n",
            "       [0.05961401],\n",
            "       [0.1035025 ],\n",
            "       [0.04045747],\n",
            "       [0.02458899],\n",
            "       [0.04860615],\n",
            "       [0.07776984],\n",
            "       [0.63059328],\n",
            "       [0.0238742 ],\n",
            "       [0.45904217],\n",
            "       [0.08606147],\n",
            "       [0.04360257],\n",
            "       [0.22902073],\n",
            "       [0.10922087],\n",
            "       [0.03631165],\n",
            "       [0.02187277],\n",
            "       [0.19285204],\n",
            "       [0.12694782],\n",
            "       [0.02887777],\n",
            "       [0.49292352],\n",
            "       [0.03702645],\n",
            "       [0.02058613],\n",
            "       [0.03659757],\n",
            "       [1.        ],\n",
            "       [0.21343817],\n",
            "       [0.0347391 ],\n",
            "       [0.1459614 ],\n",
            "       [0.2154396 ],\n",
            "       [0.03187991],\n",
            "       [0.03688349],\n",
            "       [0.03716941],\n",
            "       [0.04617584],\n",
            "       [0.02759114],\n",
            "       [0.02902073],\n",
            "       [0.01915654],\n",
            "       [0.161401  ],\n",
            "       [0.0726233 ],\n",
            "       [0.01329521],\n",
            "       [0.02930665],\n",
            "       [0.56654753],\n",
            "       [0.02659042],\n",
            "       [0.0192995 ],\n",
            "       [0.03316655],\n",
            "       [0.11679771],\n",
            "       [0.24017155],\n",
            "       [0.33266619],\n",
            "       [0.02601858],\n",
            "       [0.04145818],\n",
            "       [0.03445318],\n",
            "       [0.02430307],\n",
            "       [0.01829878],\n",
            "       [0.02759114],\n",
            "       [0.0161544 ],\n",
            "       [0.23488206],\n",
            "       [0.05346676],\n",
            "       [0.0501787 ],\n",
            "       [0.0301644 ],\n",
            "       [0.29492495],\n",
            "       [0.24603288],\n",
            "       [0.03230879],\n",
            "       [0.03302359],\n",
            "       [0.05375268],\n",
            "       [0.16440315],\n",
            "       [0.13095068],\n",
            "       [0.01901358],\n",
            "       [0.02616154],\n",
            "       [0.0501787 ],\n",
            "       [0.02587563],\n",
            "       [0.14424589],\n",
            "       [0.41272337],\n",
            "       [0.25761258],\n",
            "       [0.75739814],\n",
            "       [0.04117227],\n",
            "       [0.18613295],\n",
            "       [0.03045032],\n",
            "       [0.03202287],\n",
            "       [0.12308792],\n",
            "       [0.0301644 ],\n",
            "       [0.08977841],\n",
            "       [0.06461758],\n",
            "       [0.06733381],\n",
            "       [0.65360972],\n",
            "       [0.0378842 ],\n",
            "       [0.15525375],\n",
            "       [0.02673338],\n",
            "       [0.01887062],\n",
            "       [0.02530379],\n",
            "       [0.36654753],\n",
            "       [0.16368835],\n",
            "       [0.25589707],\n",
            "       [0.03831308],\n",
            "       [0.04374553],\n",
            "       [0.27176555],\n",
            "       [0.03259471],\n",
            "       [0.03416726],\n",
            "       [0.63516798],\n",
            "       [0.65989993],\n",
            "       [0.03516798],\n",
            "       [0.03988563],\n",
            "       [0.04517513],\n",
            "       [0.09921372],\n",
            "       [0.02358828],\n",
            "       [0.04789135],\n",
            "       [0.05932809],\n",
            "       [0.18884918],\n",
            "       [0.46390279],\n",
            "       [0.03059328],\n",
            "       [0.04774839],\n",
            "       [0.06433167],\n",
            "       [0.08663331],\n",
            "       [0.23045032],\n",
            "       [0.03488206],\n",
            "       [0.08191565],\n",
            "       [0.01958542],\n",
            "       [0.57955683],\n",
            "       [0.85646891],\n",
            "       [0.70593281],\n",
            "       [0.02844889],\n",
            "       [0.08791994],\n",
            "       [0.02201573],\n",
            "       [0.03888492],\n",
            "       [0.03330951],\n",
            "       [0.02544675],\n",
            "       [0.02344532],\n",
            "       [0.03316655],\n",
            "       [0.16997856],\n",
            "       [0.17941387],\n",
            "       [0.08649035],\n",
            "       [0.03273767],\n",
            "       [0.03902788],\n",
            "       [0.0347391 ],\n",
            "       [0.10850608],\n",
            "       [0.1073624 ],\n",
            "       [0.0733381 ],\n",
            "       [0.05589707],\n",
            "       [0.01515368],\n",
            "       [0.03045032],\n",
            "       [0.05732666],\n",
            "       [0.12994996],\n",
            "       [0.13638313],\n",
            "       [0.04488921],\n",
            "       [0.02530379],\n",
            "       [0.1119371 ],\n",
            "       [0.02673338],\n",
            "       [0.16611866],\n",
            "       [0.04231594],\n",
            "       [0.24817727],\n",
            "       [0.07319514],\n",
            "       [0.12180129],\n",
            "       [0.28734811],\n",
            "       [0.17283774],\n",
            "       [0.13981415],\n",
            "       [0.03945675],\n",
            "       [0.10407434],\n",
            "       [0.17097927],\n",
            "       [0.78827734],\n",
            "       [0.28062902],\n",
            "       [0.0301644 ],\n",
            "       [0.04746247],\n",
            "       [0.03516798],\n",
            "       [0.15310936],\n",
            "       [0.57598284],\n",
            "       [0.11794139],\n",
            "       [0.12709078],\n",
            "       [0.0238742 ],\n",
            "       [0.04203002],\n",
            "       [0.30092924],\n",
            "       [0.13552538],\n",
            "       [0.0417441 ],\n",
            "       [0.02030021],\n",
            "       [0.04474625],\n",
            "       [0.2533238 ],\n",
            "       [0.07047891],\n",
            "       [0.03187991],\n",
            "       [0.58441744],\n",
            "       [0.09563974],\n",
            "       [0.0347391 ],\n",
            "       [0.3606862 ],\n",
            "       [0.04031451],\n",
            "       [0.34824875],\n",
            "       [0.69106505],\n",
            "       [0.25003574],\n",
            "       [0.02072909],\n",
            "       [0.21286633],\n",
            "       [0.95268049],\n",
            "       [0.66304503],\n",
            "       [0.03817012],\n",
            "       [0.58670479],\n",
            "       [0.03173695],\n",
            "       [0.15253753],\n",
            "       [0.03959971],\n",
            "       [0.21915654],\n",
            "       [0.05589707],\n",
            "       [0.0161544 ],\n",
            "       [0.04102931],\n",
            "       [0.4270193 ],\n",
            "       [0.27491065],\n",
            "       [0.73238027],\n",
            "       [0.03759828],\n",
            "       [0.04517513],\n",
            "       [0.03959971],\n",
            "       [0.26819157],\n",
            "       [0.09235168],\n",
            "       [0.01729807],\n",
            "       [0.27919943],\n",
            "       [0.34152966],\n",
            "       [0.02873481],\n",
            "       [0.21401001],\n",
            "       [0.40943531],\n",
            "       [0.11536812],\n",
            "       [0.02430307],\n",
            "       [0.26061472],\n",
            "       [0.08849178],\n",
            "       [0.17641172],\n",
            "       [0.01786991],\n",
            "       [0.01744103],\n",
            "       [0.04474625],\n",
            "       [0.03302359],\n",
            "       [0.06533238],\n",
            "       [0.03616869],\n",
            "       [0.05117941],\n",
            "       [0.14867763],\n",
            "       [0.04031451],\n",
            "       [0.59914224],\n",
            "       [0.02115797],\n",
            "       [0.11722659],\n",
            "       [0.11493924],\n",
            "       [0.03817012],\n",
            "       [0.33995711],\n",
            "       [0.16426019],\n",
            "       [0.02887777],\n",
            "       [0.0694782 ],\n",
            "       [0.02358828],\n",
            "       [0.04203002],\n",
            "       [0.05704074],\n",
            "       [0.03045032],\n",
            "       [0.02930665],\n",
            "       [0.01243746],\n",
            "       [0.01186562],\n",
            "       [0.01772695],\n",
            "       [0.22330236],\n",
            "       [0.02959257],\n",
            "       [0.03616869],\n",
            "       [0.03988563],\n",
            "       [0.05175125],\n",
            "       [0.23645461],\n",
            "       [0.09621158],\n",
            "       [0.03259471],\n",
            "       [0.10507505],\n",
            "       [0.06733381],\n",
            "       [0.03130808],\n",
            "       [0.02573267],\n",
            "       [0.79842745],\n",
            "       [0.02430307],\n",
            "       [0.02373124],\n",
            "       [0.04131523],\n",
            "       [0.06733381],\n",
            "       [0.03817012],\n",
            "       [0.02659042],\n",
            "       [0.10178699],\n",
            "       [0.04374553],\n",
            "       [0.04303074],\n",
            "       [0.14653324],\n",
            "       [0.20028592],\n",
            "       [0.23187991],\n",
            "       [0.23488206],\n",
            "       [0.02944961],\n",
            "       [0.03945675],\n",
            "       [0.5807005 ],\n",
            "       [0.01486776],\n",
            "       [0.24160114],\n",
            "       [0.19113653],\n",
            "       [0.04331665],\n",
            "       [0.05761258],\n",
            "       [0.06461758],\n",
            "       [0.07977127],\n",
            "       [0.03273767],\n",
            "       [0.03245175],\n",
            "       [0.04102931],\n",
            "       [0.05904217],\n",
            "       [0.02487491],\n",
            "       [0.04517513],\n",
            "       [0.7659757 ],\n",
            "       [0.03116512],\n",
            "       [0.02673338],\n",
            "       [0.0431737 ],\n",
            "       [0.11651179],\n",
            "       [0.03173695],\n",
            "       [0.04217298],\n",
            "       [0.02959257],\n",
            "       [0.03345247],\n",
            "       [0.23130808],\n",
            "       [0.69764117],\n",
            "       [0.02587563],\n",
            "       [0.0508935 ],\n",
            "       [0.05060758],\n",
            "       [0.08291637],\n",
            "       [0.04974982],\n",
            "       [0.02802001],\n",
            "       [0.05103645],\n",
            "       [0.40300214],\n",
            "       [0.02987848],\n",
            "       [0.25132237],\n",
            "       [0.12094353],\n",
            "       [0.0231594 ],\n",
            "       [0.01300929],\n",
            "       [0.02587563],\n",
            "       [0.03173695],\n",
            "       [0.13180843],\n",
            "       [0.17955683],\n",
            "       [0.04803431],\n",
            "       [0.06361687],\n",
            "       [0.01243746],\n",
            "       [0.23988563],\n",
            "       [0.15382416],\n",
            "       [0.91765547],\n",
            "       [0.03588277],\n",
            "       [0.1196569 ],\n",
            "       [0.568406  ],\n",
            "       [0.02301644],\n",
            "       [0.03559685],\n",
            "       [0.01300929],\n",
            "       [0.46761973],\n",
            "       [0.10664761],\n",
            "       [0.05218013],\n",
            "       [0.03445318],\n",
            "       [0.03230879],\n",
            "       [0.80571837],\n",
            "       [0.02144389],\n",
            "       [0.22959257],\n",
            "       [0.27305218],\n",
            "       [0.05489635],\n",
            "       [0.36197284],\n",
            "       [0.02987848],\n",
            "       [0.08934954],\n",
            "       [0.27390994],\n",
            "       [0.11322373],\n",
            "       [0.04474625],\n",
            "       [0.01815583],\n",
            "       [0.05661187],\n",
            "       [0.03230879],\n",
            "       [0.02115797],\n",
            "       [0.03845604],\n",
            "       [0.11608292],\n",
            "       [0.12323088],\n",
            "       [0.63616869],\n",
            "       [0.01715511],\n",
            "       [0.03030736],\n",
            "       [0.02301644],\n",
            "       [0.44074339],\n",
            "       [0.05904217],\n",
            "       [0.04846319],\n",
            "       [0.03502502],\n",
            "       [0.06118656],\n",
            "       [0.06218728],\n",
            "       [0.11979986],\n",
            "       [0.03874196],\n",
            "       [0.64674768],\n",
            "       [0.03002144],\n",
            "       [0.39127949],\n",
            "       [0.09835597],\n",
            "       [0.12423159],\n",
            "       [0.04803431],\n",
            "       [0.40343102],\n",
            "       [0.22030021],\n",
            "       [0.13695497],\n",
            "       [0.19656898],\n",
            "       [0.02902073],\n",
            "       [0.80514653],\n",
            "       [0.02587563],\n",
            "       [0.01172266],\n",
            "       [0.27076483],\n",
            "       [0.01315225],\n",
            "       [0.03988563],\n",
            "       [0.05275197],\n",
            "       [0.20929235],\n",
            "       [0.25246605],\n",
            "       [0.02101501],\n",
            "       [0.55125089],\n",
            "       [0.03359543],\n",
            "       [0.15525375]])), 'test': (array([[[0.07376698],\n",
            "        [0.08291637],\n",
            "        [0.11536812],\n",
            "        ...,\n",
            "        [0.24817727],\n",
            "        [0.22644746],\n",
            "        [0.20929235]],\n",
            "\n",
            "       [[0.02587563],\n",
            "        [0.03259471],\n",
            "        [0.04102931],\n",
            "        ...,\n",
            "        [0.03559685],\n",
            "        [0.01786991],\n",
            "        [0.02987848]],\n",
            "\n",
            "       [[0.0347391 ],\n",
            "        [0.0301644 ],\n",
            "        [0.03702645],\n",
            "        ...,\n",
            "        [0.04546104],\n",
            "        [0.03359543],\n",
            "        [0.02373124]],\n",
            "\n",
            "       ...,\n",
            "\n",
            "       [[0.0301644 ],\n",
            "        [0.03187991],\n",
            "        [0.0347391 ],\n",
            "        ...,\n",
            "        [0.03459614],\n",
            "        [0.02644746],\n",
            "        [0.03230879]],\n",
            "\n",
            "       [[0.0417441 ],\n",
            "        [0.03759828],\n",
            "        [0.04231594],\n",
            "        ...,\n",
            "        [0.0238742 ],\n",
            "        [0.04217298],\n",
            "        [0.03030736]],\n",
            "\n",
            "       [[0.03302359],\n",
            "        [0.04002859],\n",
            "        [0.03459614],\n",
            "        ...,\n",
            "        [0.02487491],\n",
            "        [0.03045032],\n",
            "        [0.04517513]]]), array([[0.21529664],\n",
            "       [0.04274482],\n",
            "       [0.03359543],\n",
            "       [0.21315225],\n",
            "       [0.03588277],\n",
            "       [0.03059328],\n",
            "       [0.05503931],\n",
            "       [0.25689778],\n",
            "       [0.20371694],\n",
            "       [0.36769121],\n",
            "       [0.02716226],\n",
            "       [0.21401001],\n",
            "       [0.0270193 ],\n",
            "       [0.06847748],\n",
            "       [0.03202287],\n",
            "       [0.26032881],\n",
            "       [0.04546104],\n",
            "       [0.03416726],\n",
            "       [0.0733381 ],\n",
            "       [0.031594  ],\n",
            "       [0.0238742 ],\n",
            "       [0.04231594],\n",
            "       [0.15125089],\n",
            "       [0.41243746],\n",
            "       [0.04131523],\n",
            "       [0.06776269],\n",
            "       [0.03459614],\n",
            "       [0.16826305],\n",
            "       [0.11479628],\n",
            "       [0.03273767],\n",
            "       [0.05875625],\n",
            "       [0.04989278],\n",
            "       [0.16182988],\n",
            "       [0.03974267],\n",
            "       [0.04274482],\n",
            "       [0.02115797],\n",
            "       [0.05489635],\n",
            "       [0.02644746],\n",
            "       [0.25360972],\n",
            "       [0.22902073],\n",
            "       [0.14381701],\n",
            "       [0.04474625],\n",
            "       [0.05275197],\n",
            "       [0.0263045 ],\n",
            "       [0.04517513],\n",
            "       [0.00600429],\n",
            "       [0.01701215],\n",
            "       [0.03102216],\n",
            "       [0.045604  ]]))}\n"
          ]
        }
      ]
    },
    {
      "cell_type": "code",
      "metadata": {
        "id": "jE4xyFrOoKMC"
      },
      "source": [
        ""
      ],
      "execution_count": 11,
      "outputs": []
    },
    {
      "cell_type": "markdown",
      "metadata": {
        "id": "03h_dQbjnTiW"
      },
      "source": [
        "## Get the model"
      ]
    },
    {
      "cell_type": "code",
      "metadata": {
        "id": "6WfyzpGLnTK8"
      },
      "source": [
        ""
      ],
      "execution_count": 11,
      "outputs": []
    },
    {
      "cell_type": "code",
      "metadata": {
        "id": "S4SaqAKgLRny"
      },
      "source": [
        "model = C.get_model()"
      ],
      "execution_count": 12,
      "outputs": []
    },
    {
      "cell_type": "code",
      "metadata": {
        "colab": {
          "base_uri": "https://localhost:8080/"
        },
        "id": "VEH4lVLtnWnt",
        "outputId": "4bcb29ea-7736-4a6c-df7e-93202c58c920"
      },
      "source": [
        "model.summary()"
      ],
      "execution_count": 13,
      "outputs": [
        {
          "output_type": "stream",
          "name": "stdout",
          "text": [
            "Model: \"covid_pred_model_1\"\n",
            "_________________________________________________________________\n",
            "Layer (type)                 Output Shape              Param #   \n",
            "=================================================================\n",
            "lstm_2 (LSTM)                multiple                  4202496   \n",
            "_________________________________________________________________\n",
            "lstm_3 (LSTM)                multiple                  787456    \n",
            "_________________________________________________________________\n",
            "dense_5 (Dense)              multiple                  524800    \n",
            "_________________________________________________________________\n",
            "dense_6 (Dense)              multiple                  32896     \n",
            "_________________________________________________________________\n",
            "dense_7 (Dense)              multiple                  8256      \n",
            "_________________________________________________________________\n",
            "dense_8 (Dense)              multiple                  2080      \n",
            "_________________________________________________________________\n",
            "dropout_1 (Dropout)          multiple                  0         \n",
            "_________________________________________________________________\n",
            "dense_9 (Dense)              multiple                  33        \n",
            "=================================================================\n",
            "Total params: 5,558,017\n",
            "Trainable params: 5,558,017\n",
            "Non-trainable params: 0\n",
            "_________________________________________________________________\n"
          ]
        }
      ]
    },
    {
      "cell_type": "code",
      "metadata": {
        "id": "ytfdJqxAoKlz"
      },
      "source": [
        ""
      ],
      "execution_count": 13,
      "outputs": []
    },
    {
      "cell_type": "markdown",
      "metadata": {
        "id": "PwSU33ULnXHO"
      },
      "source": [
        "## Train the model"
      ]
    },
    {
      "cell_type": "code",
      "metadata": {
        "id": "8GyRV27TnXh-"
      },
      "source": [
        ""
      ],
      "execution_count": 13,
      "outputs": []
    },
    {
      "cell_type": "code",
      "metadata": {
        "colab": {
          "base_uri": "https://localhost:8080/",
          "height": 1000
        },
        "id": "mAmL2ClQLhzo",
        "outputId": "725de889-4a60-41a7-9d8e-0bc430d5df4a"
      },
      "source": [
        "C.train(data = data,\n",
        "        model = model)"
      ],
      "execution_count": 14,
      "outputs": [
        {
          "output_type": "stream",
          "name": "stdout",
          "text": [
            "Starting the tarnning ... \n",
            "Epoch 1/300\n",
            "10/10 [==============================] - 5s 180ms/step - loss: 66.5889 - val_loss: 46.8486\n"
          ]
        },
        {
          "output_type": "stream",
          "name": "stderr",
          "text": [
            "WARNING:absl:Found untraced functions such as lstm_cell_2_layer_call_and_return_conditional_losses, lstm_cell_2_layer_call_fn, lstm_cell_3_layer_call_and_return_conditional_losses, lstm_cell_3_layer_call_fn, lstm_cell_2_layer_call_fn while saving (showing 5 of 10). These functions will not be directly callable after loading.\n"
          ]
        },
        {
          "output_type": "stream",
          "name": "stdout",
          "text": [
            "INFO:tensorflow:Assets written to: Data/saved_model/assets\n"
          ]
        },
        {
          "output_type": "stream",
          "name": "stderr",
          "text": [
            "INFO:tensorflow:Assets written to: Data/saved_model/assets\n"
          ]
        },
        {
          "output_type": "stream",
          "name": "stdout",
          "text": [
            "Epoch 2/300\n",
            "10/10 [==============================] - 1s 73ms/step - loss: 43.7617 - val_loss: 39.1478\n"
          ]
        },
        {
          "output_type": "stream",
          "name": "stderr",
          "text": [
            "WARNING:absl:Found untraced functions such as lstm_cell_2_layer_call_and_return_conditional_losses, lstm_cell_2_layer_call_fn, lstm_cell_3_layer_call_and_return_conditional_losses, lstm_cell_3_layer_call_fn, lstm_cell_2_layer_call_fn while saving (showing 5 of 10). These functions will not be directly callable after loading.\n"
          ]
        },
        {
          "output_type": "stream",
          "name": "stdout",
          "text": [
            "INFO:tensorflow:Assets written to: Data/saved_model/assets\n"
          ]
        },
        {
          "output_type": "stream",
          "name": "stderr",
          "text": [
            "INFO:tensorflow:Assets written to: Data/saved_model/assets\n"
          ]
        },
        {
          "output_type": "stream",
          "name": "stdout",
          "text": [
            "Epoch 3/300\n",
            "10/10 [==============================] - 1s 71ms/step - loss: 41.9058 - val_loss: 27.8988\n"
          ]
        },
        {
          "output_type": "stream",
          "name": "stderr",
          "text": [
            "WARNING:absl:Found untraced functions such as lstm_cell_2_layer_call_and_return_conditional_losses, lstm_cell_2_layer_call_fn, lstm_cell_3_layer_call_and_return_conditional_losses, lstm_cell_3_layer_call_fn, lstm_cell_2_layer_call_fn while saving (showing 5 of 10). These functions will not be directly callable after loading.\n"
          ]
        },
        {
          "output_type": "stream",
          "name": "stdout",
          "text": [
            "INFO:tensorflow:Assets written to: Data/saved_model/assets\n"
          ]
        },
        {
          "output_type": "stream",
          "name": "stderr",
          "text": [
            "INFO:tensorflow:Assets written to: Data/saved_model/assets\n"
          ]
        },
        {
          "output_type": "stream",
          "name": "stdout",
          "text": [
            "Epoch 4/300\n",
            "10/10 [==============================] - 1s 86ms/step - loss: 38.2703 - val_loss: 34.4441\n"
          ]
        },
        {
          "output_type": "stream",
          "name": "stderr",
          "text": [
            "WARNING:absl:Found untraced functions such as lstm_cell_2_layer_call_and_return_conditional_losses, lstm_cell_2_layer_call_fn, lstm_cell_3_layer_call_and_return_conditional_losses, lstm_cell_3_layer_call_fn, lstm_cell_2_layer_call_fn while saving (showing 5 of 10). These functions will not be directly callable after loading.\n"
          ]
        },
        {
          "output_type": "stream",
          "name": "stdout",
          "text": [
            "INFO:tensorflow:Assets written to: Data/saved_model/assets\n"
          ]
        },
        {
          "output_type": "stream",
          "name": "stderr",
          "text": [
            "INFO:tensorflow:Assets written to: Data/saved_model/assets\n"
          ]
        },
        {
          "output_type": "stream",
          "name": "stdout",
          "text": [
            "Epoch 5/300\n",
            "10/10 [==============================] - 1s 70ms/step - loss: 36.5597 - val_loss: 29.7837\n"
          ]
        },
        {
          "output_type": "stream",
          "name": "stderr",
          "text": [
            "WARNING:absl:Found untraced functions such as lstm_cell_2_layer_call_and_return_conditional_losses, lstm_cell_2_layer_call_fn, lstm_cell_3_layer_call_and_return_conditional_losses, lstm_cell_3_layer_call_fn, lstm_cell_2_layer_call_fn while saving (showing 5 of 10). These functions will not be directly callable after loading.\n"
          ]
        },
        {
          "output_type": "stream",
          "name": "stdout",
          "text": [
            "INFO:tensorflow:Assets written to: Data/saved_model/assets\n"
          ]
        },
        {
          "output_type": "stream",
          "name": "stderr",
          "text": [
            "INFO:tensorflow:Assets written to: Data/saved_model/assets\n"
          ]
        },
        {
          "output_type": "stream",
          "name": "stdout",
          "text": [
            "Epoch 6/300\n",
            "10/10 [==============================] - 1s 68ms/step - loss: 34.6987 - val_loss: 31.4760\n"
          ]
        },
        {
          "output_type": "stream",
          "name": "stderr",
          "text": [
            "WARNING:absl:Found untraced functions such as lstm_cell_2_layer_call_and_return_conditional_losses, lstm_cell_2_layer_call_fn, lstm_cell_3_layer_call_and_return_conditional_losses, lstm_cell_3_layer_call_fn, lstm_cell_2_layer_call_fn while saving (showing 5 of 10). These functions will not be directly callable after loading.\n"
          ]
        },
        {
          "output_type": "stream",
          "name": "stdout",
          "text": [
            "INFO:tensorflow:Assets written to: Data/saved_model/assets\n"
          ]
        },
        {
          "output_type": "stream",
          "name": "stderr",
          "text": [
            "INFO:tensorflow:Assets written to: Data/saved_model/assets\n"
          ]
        },
        {
          "output_type": "stream",
          "name": "stdout",
          "text": [
            "Epoch 7/300\n",
            "10/10 [==============================] - 1s 84ms/step - loss: 37.3838 - val_loss: 31.6681\n",
            "Epoch 8/300\n",
            "10/10 [==============================] - 1s 69ms/step - loss: 34.8476 - val_loss: 34.4543\n",
            "Epoch 9/300\n",
            "10/10 [==============================] - 1s 69ms/step - loss: 33.9853 - val_loss: 30.6024\n"
          ]
        },
        {
          "output_type": "stream",
          "name": "stderr",
          "text": [
            "WARNING:absl:Found untraced functions such as lstm_cell_2_layer_call_and_return_conditional_losses, lstm_cell_2_layer_call_fn, lstm_cell_3_layer_call_and_return_conditional_losses, lstm_cell_3_layer_call_fn, lstm_cell_2_layer_call_fn while saving (showing 5 of 10). These functions will not be directly callable after loading.\n"
          ]
        },
        {
          "output_type": "stream",
          "name": "stdout",
          "text": [
            "INFO:tensorflow:Assets written to: Data/saved_model/assets\n"
          ]
        },
        {
          "output_type": "stream",
          "name": "stderr",
          "text": [
            "INFO:tensorflow:Assets written to: Data/saved_model/assets\n"
          ]
        },
        {
          "output_type": "stream",
          "name": "stdout",
          "text": [
            "Epoch 10/300\n",
            "10/10 [==============================] - 1s 68ms/step - loss: 32.4309 - val_loss: 33.5364\n"
          ]
        },
        {
          "output_type": "stream",
          "name": "stderr",
          "text": [
            "WARNING:absl:Found untraced functions such as lstm_cell_2_layer_call_and_return_conditional_losses, lstm_cell_2_layer_call_fn, lstm_cell_3_layer_call_and_return_conditional_losses, lstm_cell_3_layer_call_fn, lstm_cell_2_layer_call_fn while saving (showing 5 of 10). These functions will not be directly callable after loading.\n"
          ]
        },
        {
          "output_type": "stream",
          "name": "stdout",
          "text": [
            "INFO:tensorflow:Assets written to: Data/saved_model/assets\n"
          ]
        },
        {
          "output_type": "stream",
          "name": "stderr",
          "text": [
            "INFO:tensorflow:Assets written to: Data/saved_model/assets\n"
          ]
        },
        {
          "output_type": "stream",
          "name": "stdout",
          "text": [
            "Epoch 11/300\n",
            "10/10 [==============================] - 1s 78ms/step - loss: 32.4033 - val_loss: 30.2301\n"
          ]
        },
        {
          "output_type": "stream",
          "name": "stderr",
          "text": [
            "WARNING:absl:Found untraced functions such as lstm_cell_2_layer_call_and_return_conditional_losses, lstm_cell_2_layer_call_fn, lstm_cell_3_layer_call_and_return_conditional_losses, lstm_cell_3_layer_call_fn, lstm_cell_2_layer_call_fn while saving (showing 5 of 10). These functions will not be directly callable after loading.\n"
          ]
        },
        {
          "output_type": "stream",
          "name": "stdout",
          "text": [
            "INFO:tensorflow:Assets written to: Data/saved_model/assets\n"
          ]
        },
        {
          "output_type": "stream",
          "name": "stderr",
          "text": [
            "INFO:tensorflow:Assets written to: Data/saved_model/assets\n"
          ]
        },
        {
          "output_type": "stream",
          "name": "stdout",
          "text": [
            "Epoch 12/300\n",
            "10/10 [==============================] - 1s 83ms/step - loss: 31.9428 - val_loss: 32.5525\n"
          ]
        },
        {
          "output_type": "stream",
          "name": "stderr",
          "text": [
            "WARNING:absl:Found untraced functions such as lstm_cell_2_layer_call_and_return_conditional_losses, lstm_cell_2_layer_call_fn, lstm_cell_3_layer_call_and_return_conditional_losses, lstm_cell_3_layer_call_fn, lstm_cell_2_layer_call_fn while saving (showing 5 of 10). These functions will not be directly callable after loading.\n"
          ]
        },
        {
          "output_type": "stream",
          "name": "stdout",
          "text": [
            "INFO:tensorflow:Assets written to: Data/saved_model/assets\n"
          ]
        },
        {
          "output_type": "stream",
          "name": "stderr",
          "text": [
            "INFO:tensorflow:Assets written to: Data/saved_model/assets\n"
          ]
        },
        {
          "output_type": "stream",
          "name": "stdout",
          "text": [
            "Epoch 13/300\n",
            "10/10 [==============================] - 1s 69ms/step - loss: 32.0082 - val_loss: 36.6297\n",
            "Epoch 14/300\n",
            "10/10 [==============================] - 1s 70ms/step - loss: 34.4593 - val_loss: 34.1022\n",
            "Epoch 15/300\n",
            "10/10 [==============================] - 1s 71ms/step - loss: 32.8862 - val_loss: 40.0166\n",
            "Epoch 16/300\n",
            "10/10 [==============================] - 1s 70ms/step - loss: 33.5317 - val_loss: 34.3456\n",
            "Epoch 17/300\n",
            "10/10 [==============================] - 1s 71ms/step - loss: 31.5994 - val_loss: 34.4975\n"
          ]
        },
        {
          "output_type": "stream",
          "name": "stderr",
          "text": [
            "WARNING:absl:Found untraced functions such as lstm_cell_2_layer_call_and_return_conditional_losses, lstm_cell_2_layer_call_fn, lstm_cell_3_layer_call_and_return_conditional_losses, lstm_cell_3_layer_call_fn, lstm_cell_2_layer_call_fn while saving (showing 5 of 10). These functions will not be directly callable after loading.\n"
          ]
        },
        {
          "output_type": "stream",
          "name": "stdout",
          "text": [
            "INFO:tensorflow:Assets written to: Data/saved_model/assets\n"
          ]
        },
        {
          "output_type": "stream",
          "name": "stderr",
          "text": [
            "INFO:tensorflow:Assets written to: Data/saved_model/assets\n"
          ]
        },
        {
          "output_type": "stream",
          "name": "stdout",
          "text": [
            "Epoch 18/300\n",
            "10/10 [==============================] - 1s 71ms/step - loss: 32.0252 - val_loss: 34.2060\n",
            "Epoch 19/300\n",
            "10/10 [==============================] - 1s 67ms/step - loss: 32.4504 - val_loss: 29.6811\n",
            "Epoch 20/300\n",
            "10/10 [==============================] - 1s 69ms/step - loss: 32.0879 - val_loss: 34.2976\n",
            "Epoch 21/300\n",
            "10/10 [==============================] - 1s 76ms/step - loss: 32.4981 - val_loss: 31.2026\n",
            "Epoch 22/300\n",
            "10/10 [==============================] - 1s 70ms/step - loss: 29.7017 - val_loss: 30.7282\n"
          ]
        },
        {
          "output_type": "stream",
          "name": "stderr",
          "text": [
            "WARNING:absl:Found untraced functions such as lstm_cell_2_layer_call_and_return_conditional_losses, lstm_cell_2_layer_call_fn, lstm_cell_3_layer_call_and_return_conditional_losses, lstm_cell_3_layer_call_fn, lstm_cell_2_layer_call_fn while saving (showing 5 of 10). These functions will not be directly callable after loading.\n"
          ]
        },
        {
          "output_type": "stream",
          "name": "stdout",
          "text": [
            "INFO:tensorflow:Assets written to: Data/saved_model/assets\n"
          ]
        },
        {
          "output_type": "stream",
          "name": "stderr",
          "text": [
            "INFO:tensorflow:Assets written to: Data/saved_model/assets\n"
          ]
        },
        {
          "output_type": "stream",
          "name": "stdout",
          "text": [
            "Epoch 23/300\n",
            "10/10 [==============================] - 1s 84ms/step - loss: 30.4452 - val_loss: 29.9764\n",
            "Epoch 24/300\n",
            "10/10 [==============================] - 1s 69ms/step - loss: 29.5414 - val_loss: 31.1916\n"
          ]
        },
        {
          "output_type": "stream",
          "name": "stderr",
          "text": [
            "WARNING:absl:Found untraced functions such as lstm_cell_2_layer_call_and_return_conditional_losses, lstm_cell_2_layer_call_fn, lstm_cell_3_layer_call_and_return_conditional_losses, lstm_cell_3_layer_call_fn, lstm_cell_2_layer_call_fn while saving (showing 5 of 10). These functions will not be directly callable after loading.\n"
          ]
        },
        {
          "output_type": "stream",
          "name": "stdout",
          "text": [
            "INFO:tensorflow:Assets written to: Data/saved_model/assets\n"
          ]
        },
        {
          "output_type": "stream",
          "name": "stderr",
          "text": [
            "INFO:tensorflow:Assets written to: Data/saved_model/assets\n"
          ]
        },
        {
          "output_type": "stream",
          "name": "stdout",
          "text": [
            "Epoch 25/300\n",
            "10/10 [==============================] - 1s 70ms/step - loss: 31.0025 - val_loss: 37.0713\n",
            "Epoch 26/300\n",
            "10/10 [==============================] - 1s 71ms/step - loss: 33.8706 - val_loss: 31.9941\n",
            "Epoch 27/300\n",
            "10/10 [==============================] - 1s 71ms/step - loss: 31.1958 - val_loss: 28.5426\n",
            "Epoch 28/300\n",
            "10/10 [==============================] - 1s 69ms/step - loss: 30.0096 - val_loss: 29.0654\n",
            "Epoch 29/300\n",
            "10/10 [==============================] - 1s 76ms/step - loss: 29.9597 - val_loss: 30.7217\n",
            "Epoch 30/300\n",
            "10/10 [==============================] - 1s 69ms/step - loss: 30.0155 - val_loss: 29.7965\n",
            "Epoch 31/300\n",
            "10/10 [==============================] - 1s 69ms/step - loss: 29.6576 - val_loss: 30.4442\n",
            "Epoch 32/300\n",
            "10/10 [==============================] - 1s 69ms/step - loss: 30.2394 - val_loss: 30.5910\n",
            "Epoch 33/300\n",
            "10/10 [==============================] - 1s 68ms/step - loss: 29.9849 - val_loss: 33.9360\n",
            "Epoch 34/300\n",
            "10/10 [==============================] - 1s 70ms/step - loss: 32.1881 - val_loss: 29.7616\n",
            "Epoch 35/300\n",
            "10/10 [==============================] - 1s 69ms/step - loss: 30.5321 - val_loss: 30.2202\n",
            "Epoch 36/300\n",
            "10/10 [==============================] - 1s 70ms/step - loss: 31.2568 - val_loss: 30.3809\n",
            "Epoch 37/300\n",
            "10/10 [==============================] - 1s 68ms/step - loss: 31.8619 - val_loss: 31.1425\n",
            "Epoch 38/300\n",
            "10/10 [==============================] - 1s 70ms/step - loss: 29.7166 - val_loss: 31.2490\n",
            "Epoch 39/300\n",
            "10/10 [==============================] - 1s 71ms/step - loss: 31.3479 - val_loss: 31.6828\n",
            "Epoch 40/300\n",
            "10/10 [==============================] - 1s 70ms/step - loss: 31.1072 - val_loss: 30.1320\n",
            "Epoch 41/300\n",
            "10/10 [==============================] - 1s 71ms/step - loss: 29.5666 - val_loss: 31.3668\n",
            "Epoch 42/300\n",
            "10/10 [==============================] - 1s 69ms/step - loss: 31.8830 - val_loss: 30.4559\n",
            "Epoch 43/300\n",
            "10/10 [==============================] - 1s 68ms/step - loss: 31.2753 - val_loss: 29.9124\n",
            "Epoch 44/300\n",
            "10/10 [==============================] - 1s 70ms/step - loss: 28.8126 - val_loss: 31.0096\n"
          ]
        },
        {
          "output_type": "stream",
          "name": "stderr",
          "text": [
            "WARNING:absl:Found untraced functions such as lstm_cell_2_layer_call_and_return_conditional_losses, lstm_cell_2_layer_call_fn, lstm_cell_3_layer_call_and_return_conditional_losses, lstm_cell_3_layer_call_fn, lstm_cell_2_layer_call_fn while saving (showing 5 of 10). These functions will not be directly callable after loading.\n"
          ]
        },
        {
          "output_type": "stream",
          "name": "stdout",
          "text": [
            "INFO:tensorflow:Assets written to: Data/saved_model/assets\n"
          ]
        },
        {
          "output_type": "stream",
          "name": "stderr",
          "text": [
            "INFO:tensorflow:Assets written to: Data/saved_model/assets\n"
          ]
        },
        {
          "output_type": "stream",
          "name": "stdout",
          "text": [
            "Epoch 45/300\n",
            "10/10 [==============================] - 1s 69ms/step - loss: 31.1990 - val_loss: 31.0742\n",
            "Epoch 46/300\n",
            "10/10 [==============================] - 1s 71ms/step - loss: 30.8653 - val_loss: 29.4422\n",
            "Epoch 47/300\n",
            "10/10 [==============================] - 1s 70ms/step - loss: 29.8543 - val_loss: 30.1346\n",
            "Epoch 48/300\n",
            "10/10 [==============================] - 1s 70ms/step - loss: 29.9230 - val_loss: 28.0467\n",
            "Epoch 49/300\n",
            "10/10 [==============================] - 1s 71ms/step - loss: 29.0049 - val_loss: 27.9695\n",
            "Epoch 50/300\n",
            "10/10 [==============================] - 1s 71ms/step - loss: 29.2221 - val_loss: 28.3946\n",
            "Epoch 51/300\n",
            "10/10 [==============================] - 1s 70ms/step - loss: 28.1346 - val_loss: 27.6621\n"
          ]
        },
        {
          "output_type": "stream",
          "name": "stderr",
          "text": [
            "WARNING:absl:Found untraced functions such as lstm_cell_2_layer_call_and_return_conditional_losses, lstm_cell_2_layer_call_fn, lstm_cell_3_layer_call_and_return_conditional_losses, lstm_cell_3_layer_call_fn, lstm_cell_2_layer_call_fn while saving (showing 5 of 10). These functions will not be directly callable after loading.\n"
          ]
        },
        {
          "output_type": "stream",
          "name": "stdout",
          "text": [
            "INFO:tensorflow:Assets written to: Data/saved_model/assets\n"
          ]
        },
        {
          "output_type": "stream",
          "name": "stderr",
          "text": [
            "INFO:tensorflow:Assets written to: Data/saved_model/assets\n"
          ]
        },
        {
          "output_type": "stream",
          "name": "stdout",
          "text": [
            "Epoch 52/300\n",
            "10/10 [==============================] - 1s 80ms/step - loss: 30.3953 - val_loss: 32.3353\n",
            "Epoch 53/300\n",
            "10/10 [==============================] - 1s 70ms/step - loss: 29.9465 - val_loss: 32.6809\n",
            "Epoch 54/300\n",
            "10/10 [==============================] - 1s 68ms/step - loss: 29.7529 - val_loss: 31.7187\n",
            "Epoch 55/300\n",
            "10/10 [==============================] - 1s 68ms/step - loss: 29.5536 - val_loss: 25.6278\n",
            "Epoch 56/300\n",
            "10/10 [==============================] - 1s 70ms/step - loss: 29.8531 - val_loss: 27.2947\n",
            "Epoch 57/300\n",
            "10/10 [==============================] - 1s 70ms/step - loss: 30.5194 - val_loss: 28.0463\n",
            "Epoch 58/300\n",
            "10/10 [==============================] - 1s 71ms/step - loss: 30.8181 - val_loss: 32.3093\n",
            "Epoch 59/300\n",
            "10/10 [==============================] - 1s 69ms/step - loss: 30.5406 - val_loss: 29.6743\n",
            "Epoch 60/300\n",
            "10/10 [==============================] - 1s 69ms/step - loss: 27.5054 - val_loss: 27.0749\n"
          ]
        },
        {
          "output_type": "stream",
          "name": "stderr",
          "text": [
            "WARNING:absl:Found untraced functions such as lstm_cell_2_layer_call_and_return_conditional_losses, lstm_cell_2_layer_call_fn, lstm_cell_3_layer_call_and_return_conditional_losses, lstm_cell_3_layer_call_fn, lstm_cell_2_layer_call_fn while saving (showing 5 of 10). These functions will not be directly callable after loading.\n"
          ]
        },
        {
          "output_type": "stream",
          "name": "stdout",
          "text": [
            "INFO:tensorflow:Assets written to: Data/saved_model/assets\n"
          ]
        },
        {
          "output_type": "stream",
          "name": "stderr",
          "text": [
            "INFO:tensorflow:Assets written to: Data/saved_model/assets\n"
          ]
        },
        {
          "output_type": "stream",
          "name": "stdout",
          "text": [
            "Epoch 61/300\n",
            "10/10 [==============================] - 1s 68ms/step - loss: 31.3293 - val_loss: 30.4249\n",
            "Epoch 62/300\n",
            "10/10 [==============================] - 1s 69ms/step - loss: 28.5185 - val_loss: 30.5483\n",
            "Epoch 63/300\n",
            "10/10 [==============================] - 1s 70ms/step - loss: 30.0477 - val_loss: 32.1066\n",
            "Epoch 64/300\n",
            "10/10 [==============================] - 1s 70ms/step - loss: 29.2715 - val_loss: 30.7927\n",
            "Epoch 65/300\n",
            "10/10 [==============================] - 1s 70ms/step - loss: 28.7110 - val_loss: 31.6975\n",
            "Epoch 66/300\n",
            "10/10 [==============================] - 1s 71ms/step - loss: 32.6125 - val_loss: 31.4622\n",
            "Epoch 67/300\n",
            "10/10 [==============================] - 1s 69ms/step - loss: 30.3656 - val_loss: 29.4080\n",
            "Epoch 68/300\n",
            "10/10 [==============================] - 1s 69ms/step - loss: 28.4035 - val_loss: 31.5708\n",
            "Epoch 69/300\n",
            "10/10 [==============================] - 1s 67ms/step - loss: 33.3453 - val_loss: 30.2968\n",
            "Epoch 70/300\n",
            "10/10 [==============================] - 1s 68ms/step - loss: 30.5108 - val_loss: 30.4805\n",
            "Epoch 71/300\n",
            "10/10 [==============================] - 1s 71ms/step - loss: 29.0606 - val_loss: 29.5527\n",
            "Epoch 72/300\n",
            "10/10 [==============================] - 1s 67ms/step - loss: 29.3676 - val_loss: 32.5315\n",
            "Epoch 73/300\n",
            "10/10 [==============================] - 1s 68ms/step - loss: 28.3417 - val_loss: 28.7794\n",
            "Epoch 74/300\n",
            "10/10 [==============================] - 1s 68ms/step - loss: 28.0081 - val_loss: 34.4031\n",
            "Epoch 75/300\n",
            "10/10 [==============================] - 1s 71ms/step - loss: 30.0355 - val_loss: 31.6695\n",
            "Epoch 76/300\n",
            "10/10 [==============================] - 1s 69ms/step - loss: 30.3279 - val_loss: 30.5006\n",
            "Epoch 77/300\n",
            "10/10 [==============================] - 1s 69ms/step - loss: 29.6744 - val_loss: 34.9212\n",
            "Epoch 78/300\n",
            "10/10 [==============================] - 1s 69ms/step - loss: 28.9870 - val_loss: 32.4981\n",
            "Epoch 79/300\n",
            "10/10 [==============================] - 1s 69ms/step - loss: 28.2465 - val_loss: 29.1806\n",
            "Epoch 80/300\n",
            "10/10 [==============================] - 1s 70ms/step - loss: 29.2818 - val_loss: 30.8366\n",
            "Epoch 81/300\n",
            "10/10 [==============================] - 1s 67ms/step - loss: 28.8580 - val_loss: 33.7086\n",
            "Epoch 82/300\n",
            "10/10 [==============================] - 1s 72ms/step - loss: 28.7053 - val_loss: 30.2630\n",
            "Epoch 83/300\n",
            "10/10 [==============================] - 1s 69ms/step - loss: 28.6189 - val_loss: 28.7857\n",
            "Epoch 84/300\n",
            "10/10 [==============================] - 1s 70ms/step - loss: 28.4666 - val_loss: 29.6638\n",
            "Epoch 85/300\n",
            "10/10 [==============================] - 1s 66ms/step - loss: 28.5379 - val_loss: 30.1409\n",
            "Epoch 86/300\n",
            "10/10 [==============================] - 1s 70ms/step - loss: 28.4637 - val_loss: 29.8455\n",
            "Epoch 87/300\n",
            "10/10 [==============================] - 1s 69ms/step - loss: 27.7995 - val_loss: 31.5129\n",
            "Epoch 88/300\n",
            "10/10 [==============================] - 1s 71ms/step - loss: 29.7705 - val_loss: 38.2199\n",
            "Epoch 89/300\n",
            "10/10 [==============================] - 1s 68ms/step - loss: 30.7494 - val_loss: 29.8351\n",
            "Epoch 90/300\n",
            "10/10 [==============================] - 1s 72ms/step - loss: 30.9551 - val_loss: 29.5961\n",
            "Epoch 91/300\n",
            "10/10 [==============================] - 1s 71ms/step - loss: 29.7645 - val_loss: 30.3082\n",
            "Epoch 92/300\n",
            "10/10 [==============================] - 1s 69ms/step - loss: 29.3314 - val_loss: 30.5206\n",
            "Epoch 93/300\n",
            "10/10 [==============================] - 1s 72ms/step - loss: 29.8717 - val_loss: 30.3110\n",
            "Epoch 94/300\n",
            "10/10 [==============================] - 1s 71ms/step - loss: 28.7189 - val_loss: 31.6802\n",
            "Epoch 95/300\n",
            "10/10 [==============================] - 1s 70ms/step - loss: 27.6258 - val_loss: 29.3508\n",
            "Epoch 96/300\n",
            "10/10 [==============================] - 1s 69ms/step - loss: 29.1837 - val_loss: 31.1464\n",
            "Epoch 97/300\n",
            "10/10 [==============================] - 1s 72ms/step - loss: 31.4340 - val_loss: 29.0101\n",
            "Epoch 98/300\n",
            "10/10 [==============================] - 1s 71ms/step - loss: 30.4730 - val_loss: 29.3052\n",
            "Epoch 99/300\n",
            "10/10 [==============================] - 1s 68ms/step - loss: 29.0665 - val_loss: 33.0263\n",
            "Epoch 100/300\n",
            "10/10 [==============================] - 1s 77ms/step - loss: 30.7496 - val_loss: 32.0359\n",
            "Epoch 101/300\n",
            "10/10 [==============================] - 1s 72ms/step - loss: 28.4753 - val_loss: 29.1737\n",
            "Epoch 102/300\n",
            "10/10 [==============================] - 1s 70ms/step - loss: 28.3952 - val_loss: 27.5251\n",
            "Epoch 103/300\n",
            "10/10 [==============================] - 1s 71ms/step - loss: 29.0301 - val_loss: 30.9657\n",
            "Epoch 104/300\n",
            "10/10 [==============================] - 1s 70ms/step - loss: 28.7334 - val_loss: 31.3948\n",
            "Epoch 105/300\n",
            "10/10 [==============================] - 1s 69ms/step - loss: 27.7860 - val_loss: 30.3627\n",
            "Epoch 106/300\n",
            "10/10 [==============================] - 1s 71ms/step - loss: 30.2028 - val_loss: 29.3389\n",
            "Epoch 107/300\n",
            "10/10 [==============================] - 1s 70ms/step - loss: 27.8615 - val_loss: 30.1474\n",
            "Epoch 108/300\n",
            "10/10 [==============================] - 1s 69ms/step - loss: 29.1315 - val_loss: 32.0374\n",
            "Epoch 109/300\n",
            "10/10 [==============================] - 1s 68ms/step - loss: 28.7857 - val_loss: 30.4019\n",
            "Epoch 110/300\n",
            "10/10 [==============================] - 1s 71ms/step - loss: 28.1524 - val_loss: 28.2595\n",
            "Epoch 111/300\n",
            "10/10 [==============================] - 1s 70ms/step - loss: 28.8551 - val_loss: 31.1043\n",
            "Epoch 112/300\n",
            "10/10 [==============================] - 1s 76ms/step - loss: 27.8664 - val_loss: 26.9708\n",
            "Epoch 113/300\n",
            "10/10 [==============================] - 1s 69ms/step - loss: 29.6258 - val_loss: 30.0424\n",
            "Epoch 114/300\n",
            "10/10 [==============================] - 1s 69ms/step - loss: 31.1026 - val_loss: 29.2528\n",
            "Epoch 115/300\n",
            "10/10 [==============================] - 1s 70ms/step - loss: 31.3740 - val_loss: 30.3968\n",
            "Epoch 116/300\n",
            "10/10 [==============================] - 1s 70ms/step - loss: 30.4243 - val_loss: 32.5499\n",
            "Epoch 117/300\n",
            "10/10 [==============================] - 1s 76ms/step - loss: 30.2671 - val_loss: 35.0059\n",
            "Epoch 118/300\n",
            "10/10 [==============================] - 1s 70ms/step - loss: 30.4046 - val_loss: 33.6634\n",
            "Epoch 119/300\n",
            "10/10 [==============================] - 1s 71ms/step - loss: 33.9200 - val_loss: 31.3169\n",
            "Epoch 120/300\n",
            "10/10 [==============================] - 1s 71ms/step - loss: 29.3766 - val_loss: 29.7938\n",
            "Epoch 121/300\n",
            "10/10 [==============================] - 1s 67ms/step - loss: 27.9264 - val_loss: 27.9133\n",
            "Epoch 122/300\n",
            "10/10 [==============================] - 1s 69ms/step - loss: 30.0096 - val_loss: 27.9600\n",
            "Epoch 123/300\n",
            "10/10 [==============================] - 1s 70ms/step - loss: 29.1621 - val_loss: 29.2299\n",
            "Epoch 124/300\n",
            "10/10 [==============================] - 1s 69ms/step - loss: 31.7510 - val_loss: 29.7073\n",
            "Epoch 125/300\n",
            "10/10 [==============================] - 1s 69ms/step - loss: 29.6842 - val_loss: 30.4685\n",
            "Epoch 126/300\n",
            "10/10 [==============================] - 1s 79ms/step - loss: 29.9348 - val_loss: 32.7524\n",
            "Epoch 127/300\n",
            "10/10 [==============================] - 1s 70ms/step - loss: 29.8958 - val_loss: 32.5402\n",
            "Epoch 128/300\n",
            "10/10 [==============================] - 1s 71ms/step - loss: 29.8610 - val_loss: 32.1576\n",
            "Epoch 129/300\n",
            "10/10 [==============================] - 1s 71ms/step - loss: 31.1853 - val_loss: 32.6505\n",
            "Epoch 130/300\n",
            "10/10 [==============================] - 1s 70ms/step - loss: 30.2286 - val_loss: 34.6616\n",
            "Epoch 131/300\n",
            "10/10 [==============================] - 1s 72ms/step - loss: 30.9119 - val_loss: 29.2964\n",
            "Epoch 132/300\n",
            "10/10 [==============================] - 1s 71ms/step - loss: 28.4818 - val_loss: 30.8433\n",
            "Epoch 133/300\n",
            "10/10 [==============================] - 1s 70ms/step - loss: 28.9732 - val_loss: 29.7461\n",
            "Epoch 134/300\n",
            "10/10 [==============================] - 1s 69ms/step - loss: 28.9528 - val_loss: 30.5747\n",
            "Epoch 135/300\n",
            "10/10 [==============================] - 1s 69ms/step - loss: 28.9559 - val_loss: 31.3582\n",
            "Epoch 136/300\n",
            "10/10 [==============================] - 1s 69ms/step - loss: 29.9639 - val_loss: 30.2691\n",
            "Epoch 137/300\n",
            "10/10 [==============================] - 1s 68ms/step - loss: 27.8577 - val_loss: 28.1707\n",
            "Epoch 138/300\n",
            "10/10 [==============================] - 1s 69ms/step - loss: 28.8143 - val_loss: 29.7484\n",
            "Epoch 139/300\n",
            "10/10 [==============================] - 1s 69ms/step - loss: 29.0746 - val_loss: 31.2794\n",
            "Epoch 140/300\n",
            "10/10 [==============================] - 1s 77ms/step - loss: 27.8336 - val_loss: 27.4156\n",
            "Epoch 141/300\n",
            "10/10 [==============================] - 1s 70ms/step - loss: 26.9343 - val_loss: 27.1049\n"
          ]
        },
        {
          "output_type": "stream",
          "name": "stderr",
          "text": [
            "WARNING:absl:Found untraced functions such as lstm_cell_2_layer_call_and_return_conditional_losses, lstm_cell_2_layer_call_fn, lstm_cell_3_layer_call_and_return_conditional_losses, lstm_cell_3_layer_call_fn, lstm_cell_2_layer_call_fn while saving (showing 5 of 10). These functions will not be directly callable after loading.\n"
          ]
        },
        {
          "output_type": "stream",
          "name": "stdout",
          "text": [
            "INFO:tensorflow:Assets written to: Data/saved_model/assets\n"
          ]
        },
        {
          "output_type": "stream",
          "name": "stderr",
          "text": [
            "INFO:tensorflow:Assets written to: Data/saved_model/assets\n"
          ]
        },
        {
          "output_type": "stream",
          "name": "stdout",
          "text": [
            "Epoch 142/300\n",
            "10/10 [==============================] - 1s 83ms/step - loss: 28.0565 - val_loss: 28.5400\n",
            "Epoch 143/300\n",
            "10/10 [==============================] - 1s 71ms/step - loss: 27.6690 - val_loss: 29.0269\n",
            "Epoch 144/300\n",
            "10/10 [==============================] - 1s 70ms/step - loss: 28.2115 - val_loss: 28.5232\n",
            "Epoch 145/300\n",
            "10/10 [==============================] - 1s 70ms/step - loss: 28.2258 - val_loss: 31.8269\n",
            "Epoch 146/300\n",
            "10/10 [==============================] - 1s 70ms/step - loss: 26.4816 - val_loss: 31.4789\n"
          ]
        },
        {
          "output_type": "stream",
          "name": "stderr",
          "text": [
            "WARNING:absl:Found untraced functions such as lstm_cell_2_layer_call_and_return_conditional_losses, lstm_cell_2_layer_call_fn, lstm_cell_3_layer_call_and_return_conditional_losses, lstm_cell_3_layer_call_fn, lstm_cell_2_layer_call_fn while saving (showing 5 of 10). These functions will not be directly callable after loading.\n"
          ]
        },
        {
          "output_type": "stream",
          "name": "stdout",
          "text": [
            "INFO:tensorflow:Assets written to: Data/saved_model/assets\n"
          ]
        },
        {
          "output_type": "stream",
          "name": "stderr",
          "text": [
            "INFO:tensorflow:Assets written to: Data/saved_model/assets\n"
          ]
        },
        {
          "output_type": "stream",
          "name": "stdout",
          "text": [
            "Epoch 147/300\n",
            "10/10 [==============================] - 1s 71ms/step - loss: 28.8755 - val_loss: 31.4853\n",
            "Epoch 148/300\n",
            "10/10 [==============================] - 1s 70ms/step - loss: 27.0538 - val_loss: 26.7950\n",
            "Epoch 149/300\n",
            "10/10 [==============================] - 1s 71ms/step - loss: 29.6508 - val_loss: 31.9504\n",
            "Epoch 150/300\n",
            "10/10 [==============================] - 1s 71ms/step - loss: 27.6405 - val_loss: 31.1419\n",
            "Epoch 151/300\n",
            "10/10 [==============================] - 1s 67ms/step - loss: 29.6728 - val_loss: 28.9598\n",
            "Epoch 152/300\n",
            "10/10 [==============================] - 1s 70ms/step - loss: 29.3575 - val_loss: 28.4181\n",
            "Epoch 153/300\n",
            "10/10 [==============================] - 1s 69ms/step - loss: 27.8843 - val_loss: 28.6936\n",
            "Epoch 154/300\n",
            "10/10 [==============================] - 1s 71ms/step - loss: 27.0123 - val_loss: 30.0391\n",
            "Epoch 155/300\n",
            "10/10 [==============================] - 1s 69ms/step - loss: 27.2612 - val_loss: 29.2745\n",
            "Epoch 156/300\n",
            "10/10 [==============================] - 1s 70ms/step - loss: 27.6969 - val_loss: 26.7027\n",
            "Epoch 157/300\n",
            "10/10 [==============================] - 1s 70ms/step - loss: 28.4758 - val_loss: 28.6875\n",
            "Epoch 158/300\n",
            "10/10 [==============================] - 1s 69ms/step - loss: 26.4380 - val_loss: 27.1761\n"
          ]
        },
        {
          "output_type": "stream",
          "name": "stderr",
          "text": [
            "WARNING:absl:Found untraced functions such as lstm_cell_2_layer_call_and_return_conditional_losses, lstm_cell_2_layer_call_fn, lstm_cell_3_layer_call_and_return_conditional_losses, lstm_cell_3_layer_call_fn, lstm_cell_2_layer_call_fn while saving (showing 5 of 10). These functions will not be directly callable after loading.\n"
          ]
        },
        {
          "output_type": "stream",
          "name": "stdout",
          "text": [
            "INFO:tensorflow:Assets written to: Data/saved_model/assets\n"
          ]
        },
        {
          "output_type": "stream",
          "name": "stderr",
          "text": [
            "INFO:tensorflow:Assets written to: Data/saved_model/assets\n"
          ]
        },
        {
          "output_type": "stream",
          "name": "stdout",
          "text": [
            "Epoch 159/300\n",
            "10/10 [==============================] - 1s 82ms/step - loss: 26.6864 - val_loss: 28.3329\n",
            "Epoch 160/300\n",
            "10/10 [==============================] - 1s 71ms/step - loss: 28.3271 - val_loss: 27.1696\n",
            "Epoch 161/300\n",
            "10/10 [==============================] - 1s 70ms/step - loss: 27.5608 - val_loss: 26.8959\n",
            "Epoch 162/300\n",
            "10/10 [==============================] - 1s 71ms/step - loss: 25.7279 - val_loss: 30.6891\n"
          ]
        },
        {
          "output_type": "stream",
          "name": "stderr",
          "text": [
            "WARNING:absl:Found untraced functions such as lstm_cell_2_layer_call_and_return_conditional_losses, lstm_cell_2_layer_call_fn, lstm_cell_3_layer_call_and_return_conditional_losses, lstm_cell_3_layer_call_fn, lstm_cell_2_layer_call_fn while saving (showing 5 of 10). These functions will not be directly callable after loading.\n"
          ]
        },
        {
          "output_type": "stream",
          "name": "stdout",
          "text": [
            "INFO:tensorflow:Assets written to: Data/saved_model/assets\n"
          ]
        },
        {
          "output_type": "stream",
          "name": "stderr",
          "text": [
            "INFO:tensorflow:Assets written to: Data/saved_model/assets\n"
          ]
        },
        {
          "output_type": "stream",
          "name": "stdout",
          "text": [
            "Epoch 163/300\n",
            "10/10 [==============================] - 1s 70ms/step - loss: 28.0058 - val_loss: 29.2258\n",
            "Epoch 164/300\n",
            "10/10 [==============================] - 1s 68ms/step - loss: 28.7190 - val_loss: 30.6371\n",
            "Epoch 165/300\n",
            "10/10 [==============================] - 1s 70ms/step - loss: 28.9172 - val_loss: 33.4793\n",
            "Epoch 166/300\n",
            "10/10 [==============================] - 1s 67ms/step - loss: 28.0549 - val_loss: 28.3757\n",
            "Epoch 167/300\n",
            "10/10 [==============================] - 1s 70ms/step - loss: 28.8937 - val_loss: 29.9821\n",
            "Epoch 168/300\n",
            "10/10 [==============================] - 1s 70ms/step - loss: 26.7647 - val_loss: 25.6571\n",
            "Epoch 169/300\n",
            "10/10 [==============================] - 1s 71ms/step - loss: 26.4280 - val_loss: 26.9064\n",
            "Epoch 170/300\n",
            "10/10 [==============================] - 1s 68ms/step - loss: 27.7955 - val_loss: 27.2838\n",
            "Epoch 171/300\n",
            "10/10 [==============================] - 1s 71ms/step - loss: 26.6351 - val_loss: 26.2897\n",
            "Epoch 172/300\n",
            "10/10 [==============================] - 1s 70ms/step - loss: 26.9713 - val_loss: 29.3356\n",
            "Epoch 173/300\n",
            "10/10 [==============================] - 1s 69ms/step - loss: 27.2120 - val_loss: 26.8781\n",
            "Epoch 174/300\n",
            "10/10 [==============================] - 1s 70ms/step - loss: 26.6831 - val_loss: 27.6522\n",
            "Epoch 175/300\n",
            "10/10 [==============================] - 1s 68ms/step - loss: 27.3117 - val_loss: 29.4835\n",
            "Epoch 176/300\n",
            "10/10 [==============================] - 1s 68ms/step - loss: 26.3664 - val_loss: 24.9619\n",
            "Epoch 177/300\n",
            "10/10 [==============================] - 1s 69ms/step - loss: 24.4714 - val_loss: 26.1508\n"
          ]
        },
        {
          "output_type": "stream",
          "name": "stderr",
          "text": [
            "WARNING:absl:Found untraced functions such as lstm_cell_2_layer_call_and_return_conditional_losses, lstm_cell_2_layer_call_fn, lstm_cell_3_layer_call_and_return_conditional_losses, lstm_cell_3_layer_call_fn, lstm_cell_2_layer_call_fn while saving (showing 5 of 10). These functions will not be directly callable after loading.\n"
          ]
        },
        {
          "output_type": "stream",
          "name": "stdout",
          "text": [
            "INFO:tensorflow:Assets written to: Data/saved_model/assets\n"
          ]
        },
        {
          "output_type": "stream",
          "name": "stderr",
          "text": [
            "INFO:tensorflow:Assets written to: Data/saved_model/assets\n"
          ]
        },
        {
          "output_type": "stream",
          "name": "stdout",
          "text": [
            "Epoch 178/300\n",
            "10/10 [==============================] - 1s 70ms/step - loss: 27.0971 - val_loss: 26.5874\n",
            "Epoch 179/300\n",
            "10/10 [==============================] - 1s 70ms/step - loss: 24.7302 - val_loss: 30.9751\n",
            "Epoch 180/300\n",
            "10/10 [==============================] - 1s 70ms/step - loss: 25.4429 - val_loss: 26.9912\n",
            "Epoch 181/300\n",
            "10/10 [==============================] - 1s 72ms/step - loss: 27.9491 - val_loss: 26.7303\n",
            "Epoch 182/300\n",
            "10/10 [==============================] - 1s 70ms/step - loss: 25.6921 - val_loss: 26.9126\n",
            "Epoch 183/300\n",
            "10/10 [==============================] - 1s 70ms/step - loss: 23.9534 - val_loss: 27.6659\n"
          ]
        },
        {
          "output_type": "stream",
          "name": "stderr",
          "text": [
            "WARNING:absl:Found untraced functions such as lstm_cell_2_layer_call_and_return_conditional_losses, lstm_cell_2_layer_call_fn, lstm_cell_3_layer_call_and_return_conditional_losses, lstm_cell_3_layer_call_fn, lstm_cell_2_layer_call_fn while saving (showing 5 of 10). These functions will not be directly callable after loading.\n"
          ]
        },
        {
          "output_type": "stream",
          "name": "stdout",
          "text": [
            "INFO:tensorflow:Assets written to: Data/saved_model/assets\n"
          ]
        },
        {
          "output_type": "stream",
          "name": "stderr",
          "text": [
            "INFO:tensorflow:Assets written to: Data/saved_model/assets\n"
          ]
        },
        {
          "output_type": "stream",
          "name": "stdout",
          "text": [
            "Epoch 184/300\n",
            "10/10 [==============================] - 1s 84ms/step - loss: 24.8929 - val_loss: 28.4507\n",
            "Epoch 185/300\n",
            "10/10 [==============================] - 1s 69ms/step - loss: 24.3940 - val_loss: 29.3270\n",
            "Epoch 186/300\n",
            "10/10 [==============================] - 1s 70ms/step - loss: 26.2107 - val_loss: 26.7037\n",
            "Epoch 187/300\n",
            "10/10 [==============================] - 1s 68ms/step - loss: 22.3653 - val_loss: 28.9309\n"
          ]
        },
        {
          "output_type": "stream",
          "name": "stderr",
          "text": [
            "WARNING:absl:Found untraced functions such as lstm_cell_2_layer_call_and_return_conditional_losses, lstm_cell_2_layer_call_fn, lstm_cell_3_layer_call_and_return_conditional_losses, lstm_cell_3_layer_call_fn, lstm_cell_2_layer_call_fn while saving (showing 5 of 10). These functions will not be directly callable after loading.\n"
          ]
        },
        {
          "output_type": "stream",
          "name": "stdout",
          "text": [
            "INFO:tensorflow:Assets written to: Data/saved_model/assets\n"
          ]
        },
        {
          "output_type": "stream",
          "name": "stderr",
          "text": [
            "INFO:tensorflow:Assets written to: Data/saved_model/assets\n"
          ]
        },
        {
          "output_type": "stream",
          "name": "stdout",
          "text": [
            "Epoch 188/300\n",
            "10/10 [==============================] - 1s 70ms/step - loss: 24.6194 - val_loss: 28.7523\n",
            "Epoch 189/300\n",
            "10/10 [==============================] - 1s 69ms/step - loss: 27.2711 - val_loss: 28.4163\n",
            "Epoch 190/300\n",
            "10/10 [==============================] - 1s 69ms/step - loss: 27.1644 - val_loss: 30.6025\n",
            "Epoch 191/300\n",
            "10/10 [==============================] - 1s 71ms/step - loss: 25.2979 - val_loss: 27.6024\n",
            "Epoch 192/300\n",
            "10/10 [==============================] - 1s 69ms/step - loss: 23.6166 - val_loss: 26.6221\n",
            "Epoch 193/300\n",
            "10/10 [==============================] - 1s 69ms/step - loss: 24.4929 - val_loss: 27.1125\n",
            "Epoch 194/300\n",
            "10/10 [==============================] - 1s 71ms/step - loss: 24.3097 - val_loss: 27.1861\n",
            "Epoch 195/300\n",
            "10/10 [==============================] - 1s 69ms/step - loss: 24.5022 - val_loss: 28.3981\n",
            "Epoch 196/300\n",
            "10/10 [==============================] - 1s 70ms/step - loss: 24.3113 - val_loss: 25.8732\n",
            "Epoch 197/300\n",
            "10/10 [==============================] - 1s 71ms/step - loss: 23.5247 - val_loss: 27.2918\n",
            "Epoch 198/300\n",
            "10/10 [==============================] - 1s 68ms/step - loss: 22.4462 - val_loss: 25.2150\n",
            "Epoch 199/300\n",
            "10/10 [==============================] - 1s 68ms/step - loss: 23.2637 - val_loss: 28.3178\n",
            "Epoch 200/300\n",
            "10/10 [==============================] - 1s 68ms/step - loss: 24.8148 - val_loss: 26.6943\n",
            "Epoch 201/300\n",
            "10/10 [==============================] - 1s 67ms/step - loss: 22.6035 - val_loss: 27.5105\n",
            "Epoch 202/300\n",
            "10/10 [==============================] - 1s 70ms/step - loss: 24.7717 - val_loss: 26.3405\n",
            "Epoch 203/300\n",
            "10/10 [==============================] - 1s 70ms/step - loss: 23.2903 - val_loss: 29.9879\n",
            "Epoch 204/300\n",
            "10/10 [==============================] - 1s 68ms/step - loss: 24.9527 - val_loss: 27.8879\n",
            "Epoch 205/300\n",
            "10/10 [==============================] - 1s 70ms/step - loss: 24.4162 - val_loss: 28.6496\n",
            "Epoch 206/300\n",
            "10/10 [==============================] - 1s 71ms/step - loss: 23.6952 - val_loss: 25.8659\n",
            "Epoch 207/300\n",
            "10/10 [==============================] - 1s 70ms/step - loss: 23.7614 - val_loss: 28.2142\n",
            "Epoch 208/300\n",
            "10/10 [==============================] - 1s 69ms/step - loss: 23.0106 - val_loss: 30.0592\n",
            "Epoch 209/300\n",
            "10/10 [==============================] - 1s 71ms/step - loss: 21.7085 - val_loss: 29.3280\n"
          ]
        },
        {
          "output_type": "stream",
          "name": "stderr",
          "text": [
            "WARNING:absl:Found untraced functions such as lstm_cell_2_layer_call_and_return_conditional_losses, lstm_cell_2_layer_call_fn, lstm_cell_3_layer_call_and_return_conditional_losses, lstm_cell_3_layer_call_fn, lstm_cell_2_layer_call_fn while saving (showing 5 of 10). These functions will not be directly callable after loading.\n"
          ]
        },
        {
          "output_type": "stream",
          "name": "stdout",
          "text": [
            "INFO:tensorflow:Assets written to: Data/saved_model/assets\n"
          ]
        },
        {
          "output_type": "stream",
          "name": "stderr",
          "text": [
            "INFO:tensorflow:Assets written to: Data/saved_model/assets\n"
          ]
        },
        {
          "output_type": "stream",
          "name": "stdout",
          "text": [
            "Epoch 210/300\n",
            "10/10 [==============================] - 1s 80ms/step - loss: 22.9945 - val_loss: 26.8473\n",
            "Epoch 211/300\n",
            "10/10 [==============================] - 1s 71ms/step - loss: 23.3729 - val_loss: 27.4977\n",
            "Epoch 212/300\n",
            "10/10 [==============================] - 1s 76ms/step - loss: 24.3941 - val_loss: 28.0974\n",
            "Epoch 213/300\n",
            "10/10 [==============================] - 1s 68ms/step - loss: 25.2676 - val_loss: 31.6177\n",
            "Epoch 214/300\n",
            "10/10 [==============================] - 1s 71ms/step - loss: 23.3600 - val_loss: 29.6126\n",
            "Epoch 215/300\n",
            "10/10 [==============================] - 1s 68ms/step - loss: 22.8938 - val_loss: 31.7051\n",
            "Epoch 216/300\n",
            "10/10 [==============================] - 1s 70ms/step - loss: 25.6071 - val_loss: 28.9777\n",
            "Epoch 217/300\n",
            "10/10 [==============================] - 1s 68ms/step - loss: 25.1095 - val_loss: 27.6541\n",
            "Epoch 218/300\n",
            "10/10 [==============================] - 1s 69ms/step - loss: 23.3321 - val_loss: 27.1072\n",
            "Epoch 219/300\n",
            "10/10 [==============================] - 1s 72ms/step - loss: 23.0674 - val_loss: 29.4112\n",
            "Epoch 220/300\n",
            "10/10 [==============================] - 1s 71ms/step - loss: 24.3259 - val_loss: 27.4115\n",
            "Epoch 221/300\n",
            "10/10 [==============================] - 1s 69ms/step - loss: 22.8652 - val_loss: 27.0961\n",
            "Epoch 222/300\n",
            "10/10 [==============================] - 1s 72ms/step - loss: 22.1502 - val_loss: 27.9011\n",
            "Epoch 223/300\n",
            "10/10 [==============================] - 1s 70ms/step - loss: 23.6174 - val_loss: 28.4513\n",
            "Epoch 224/300\n",
            "10/10 [==============================] - 1s 69ms/step - loss: 23.8307 - val_loss: 27.0138\n",
            "Epoch 225/300\n",
            "10/10 [==============================] - 1s 70ms/step - loss: 21.8580 - val_loss: 26.7741\n",
            "Epoch 226/300\n",
            "10/10 [==============================] - 1s 72ms/step - loss: 23.3537 - val_loss: 28.2547\n",
            "Epoch 227/300\n",
            "10/10 [==============================] - 1s 70ms/step - loss: 23.8940 - val_loss: 28.1291\n",
            "Epoch 228/300\n",
            "10/10 [==============================] - 1s 70ms/step - loss: 23.6398 - val_loss: 27.3680\n",
            "Epoch 229/300\n",
            "10/10 [==============================] - 1s 70ms/step - loss: 24.2826 - val_loss: 29.6313\n",
            "Epoch 230/300\n",
            "10/10 [==============================] - 1s 70ms/step - loss: 24.4224 - val_loss: 30.1788\n",
            "Epoch 231/300\n",
            "10/10 [==============================] - 1s 69ms/step - loss: 23.0195 - val_loss: 30.2874\n",
            "Epoch 232/300\n",
            "10/10 [==============================] - 1s 71ms/step - loss: 22.6324 - val_loss: 26.7248\n",
            "Epoch 233/300\n",
            "10/10 [==============================] - 1s 69ms/step - loss: 24.5037 - val_loss: 31.6618\n",
            "Epoch 234/300\n",
            "10/10 [==============================] - 1s 69ms/step - loss: 31.6410 - val_loss: 29.2205\n",
            "Epoch 235/300\n",
            "10/10 [==============================] - 1s 72ms/step - loss: 27.4276 - val_loss: 29.0681\n",
            "Epoch 236/300\n",
            "10/10 [==============================] - 1s 69ms/step - loss: 25.4789 - val_loss: 29.0753\n",
            "Epoch 237/300\n",
            "10/10 [==============================] - 1s 70ms/step - loss: 23.3718 - val_loss: 27.4260\n",
            "Epoch 238/300\n",
            "10/10 [==============================] - 1s 69ms/step - loss: 25.0534 - val_loss: 27.3899\n",
            "Epoch 239/300\n",
            "10/10 [==============================] - 1s 68ms/step - loss: 25.0633 - val_loss: 28.4969\n",
            "Epoch 240/300\n",
            "10/10 [==============================] - 1s 70ms/step - loss: 21.7906 - val_loss: 25.6507\n",
            "Epoch 241/300\n",
            "10/10 [==============================] - 1s 70ms/step - loss: 23.1409 - val_loss: 27.6126\n",
            "Epoch 242/300\n",
            "10/10 [==============================] - 1s 69ms/step - loss: 25.1513 - val_loss: 30.1866\n",
            "Epoch 243/300\n",
            "10/10 [==============================] - 1s 69ms/step - loss: 24.7348 - val_loss: 30.6834\n",
            "Epoch 244/300\n",
            "10/10 [==============================] - 1s 70ms/step - loss: 21.4623 - val_loss: 28.1948\n"
          ]
        },
        {
          "output_type": "stream",
          "name": "stderr",
          "text": [
            "WARNING:absl:Found untraced functions such as lstm_cell_2_layer_call_and_return_conditional_losses, lstm_cell_2_layer_call_fn, lstm_cell_3_layer_call_and_return_conditional_losses, lstm_cell_3_layer_call_fn, lstm_cell_2_layer_call_fn while saving (showing 5 of 10). These functions will not be directly callable after loading.\n"
          ]
        },
        {
          "output_type": "stream",
          "name": "stdout",
          "text": [
            "INFO:tensorflow:Assets written to: Data/saved_model/assets\n"
          ]
        },
        {
          "output_type": "stream",
          "name": "stderr",
          "text": [
            "INFO:tensorflow:Assets written to: Data/saved_model/assets\n"
          ]
        },
        {
          "output_type": "stream",
          "name": "stdout",
          "text": [
            "Epoch 245/300\n",
            "10/10 [==============================] - 1s 76ms/step - loss: 25.1753 - val_loss: 28.5974\n",
            "Epoch 246/300\n",
            "10/10 [==============================] - 1s 70ms/step - loss: 23.2632 - val_loss: 29.2097\n",
            "Epoch 247/300\n",
            "10/10 [==============================] - 1s 68ms/step - loss: 24.6743 - val_loss: 28.4553\n",
            "Epoch 248/300\n",
            "10/10 [==============================] - 1s 69ms/step - loss: 24.4341 - val_loss: 29.8221\n",
            "Epoch 249/300\n",
            "10/10 [==============================] - 1s 71ms/step - loss: 23.9803 - val_loss: 31.7355\n",
            "Epoch 250/300\n",
            "10/10 [==============================] - 1s 69ms/step - loss: 22.2715 - val_loss: 29.4196\n",
            "Epoch 251/300\n",
            "10/10 [==============================] - 1s 70ms/step - loss: 22.8673 - val_loss: 28.2276\n",
            "Epoch 252/300\n",
            "10/10 [==============================] - 1s 70ms/step - loss: 21.8616 - val_loss: 26.5549\n",
            "Epoch 253/300\n",
            "10/10 [==============================] - 1s 68ms/step - loss: 21.0699 - val_loss: 28.0327\n"
          ]
        },
        {
          "output_type": "stream",
          "name": "stderr",
          "text": [
            "WARNING:absl:Found untraced functions such as lstm_cell_2_layer_call_and_return_conditional_losses, lstm_cell_2_layer_call_fn, lstm_cell_3_layer_call_and_return_conditional_losses, lstm_cell_3_layer_call_fn, lstm_cell_2_layer_call_fn while saving (showing 5 of 10). These functions will not be directly callable after loading.\n"
          ]
        },
        {
          "output_type": "stream",
          "name": "stdout",
          "text": [
            "INFO:tensorflow:Assets written to: Data/saved_model/assets\n"
          ]
        },
        {
          "output_type": "stream",
          "name": "stderr",
          "text": [
            "INFO:tensorflow:Assets written to: Data/saved_model/assets\n"
          ]
        },
        {
          "output_type": "stream",
          "name": "stdout",
          "text": [
            "Epoch 254/300\n",
            "10/10 [==============================] - 1s 81ms/step - loss: 22.1991 - val_loss: 26.9230\n",
            "Epoch 255/300\n",
            "10/10 [==============================] - 1s 70ms/step - loss: 21.5665 - val_loss: 27.2792\n",
            "Epoch 256/300\n",
            "10/10 [==============================] - 1s 68ms/step - loss: 22.5059 - val_loss: 26.3300\n",
            "Epoch 257/300\n",
            "10/10 [==============================] - 1s 68ms/step - loss: 20.9808 - val_loss: 26.4773\n"
          ]
        },
        {
          "output_type": "stream",
          "name": "stderr",
          "text": [
            "WARNING:absl:Found untraced functions such as lstm_cell_2_layer_call_and_return_conditional_losses, lstm_cell_2_layer_call_fn, lstm_cell_3_layer_call_and_return_conditional_losses, lstm_cell_3_layer_call_fn, lstm_cell_2_layer_call_fn while saving (showing 5 of 10). These functions will not be directly callable after loading.\n"
          ]
        },
        {
          "output_type": "stream",
          "name": "stdout",
          "text": [
            "INFO:tensorflow:Assets written to: Data/saved_model/assets\n"
          ]
        },
        {
          "output_type": "stream",
          "name": "stderr",
          "text": [
            "INFO:tensorflow:Assets written to: Data/saved_model/assets\n"
          ]
        },
        {
          "output_type": "stream",
          "name": "stdout",
          "text": [
            "Epoch 258/300\n",
            "10/10 [==============================] - 1s 69ms/step - loss: 22.2126 - val_loss: 27.9368\n",
            "Epoch 259/300\n",
            "10/10 [==============================] - 1s 71ms/step - loss: 21.8428 - val_loss: 31.1760\n",
            "Epoch 260/300\n",
            "10/10 [==============================] - 1s 70ms/step - loss: 23.7219 - val_loss: 28.2757\n",
            "Epoch 261/300\n",
            "10/10 [==============================] - 1s 70ms/step - loss: 21.2641 - val_loss: 26.3302\n",
            "Epoch 262/300\n",
            "10/10 [==============================] - 1s 72ms/step - loss: 21.7341 - val_loss: 27.8146\n",
            "Epoch 263/300\n",
            "10/10 [==============================] - 1s 68ms/step - loss: 23.3374 - val_loss: 28.3891\n",
            "Epoch 264/300\n",
            "10/10 [==============================] - 1s 69ms/step - loss: 20.3322 - val_loss: 27.4913\n"
          ]
        },
        {
          "output_type": "stream",
          "name": "stderr",
          "text": [
            "WARNING:absl:Found untraced functions such as lstm_cell_2_layer_call_and_return_conditional_losses, lstm_cell_2_layer_call_fn, lstm_cell_3_layer_call_and_return_conditional_losses, lstm_cell_3_layer_call_fn, lstm_cell_2_layer_call_fn while saving (showing 5 of 10). These functions will not be directly callable after loading.\n"
          ]
        },
        {
          "output_type": "stream",
          "name": "stdout",
          "text": [
            "INFO:tensorflow:Assets written to: Data/saved_model/assets\n"
          ]
        },
        {
          "output_type": "stream",
          "name": "stderr",
          "text": [
            "INFO:tensorflow:Assets written to: Data/saved_model/assets\n"
          ]
        },
        {
          "output_type": "stream",
          "name": "stdout",
          "text": [
            "Epoch 265/300\n",
            "10/10 [==============================] - 1s 67ms/step - loss: 21.7951 - val_loss: 28.6292\n",
            "Epoch 266/300\n",
            "10/10 [==============================] - 1s 69ms/step - loss: 22.7474 - val_loss: 29.3329\n",
            "Epoch 267/300\n",
            "10/10 [==============================] - 1s 71ms/step - loss: 21.1595 - val_loss: 27.9308\n",
            "Epoch 268/300\n",
            "10/10 [==============================] - 1s 69ms/step - loss: 21.8212 - val_loss: 30.2921\n",
            "Epoch 269/300\n",
            "10/10 [==============================] - 1s 70ms/step - loss: 21.7166 - val_loss: 29.0698\n",
            "Epoch 270/300\n",
            "10/10 [==============================] - 1s 69ms/step - loss: 22.2180 - val_loss: 28.0089\n",
            "Epoch 271/300\n",
            "10/10 [==============================] - 1s 70ms/step - loss: 22.8804 - val_loss: 29.9865\n",
            "Epoch 272/300\n",
            "10/10 [==============================] - 1s 71ms/step - loss: 21.8118 - val_loss: 27.2518\n",
            "Epoch 273/300\n",
            "10/10 [==============================] - 1s 71ms/step - loss: 21.9657 - val_loss: 29.4820\n",
            "Epoch 274/300\n",
            "10/10 [==============================] - 1s 69ms/step - loss: 21.5727 - val_loss: 27.4182\n",
            "Epoch 275/300\n",
            "10/10 [==============================] - 1s 68ms/step - loss: 22.0829 - val_loss: 27.2802\n",
            "Epoch 276/300\n",
            "10/10 [==============================] - 1s 70ms/step - loss: 22.3112 - val_loss: 26.7884\n",
            "Epoch 277/300\n",
            "10/10 [==============================] - 1s 69ms/step - loss: 22.2822 - val_loss: 26.5873\n",
            "Epoch 278/300\n",
            "10/10 [==============================] - 1s 70ms/step - loss: 21.6668 - val_loss: 27.9151\n",
            "Epoch 279/300\n",
            "10/10 [==============================] - 1s 68ms/step - loss: 20.8852 - val_loss: 30.0620\n",
            "Epoch 280/300\n",
            "10/10 [==============================] - 1s 66ms/step - loss: 21.8717 - val_loss: 27.5000\n",
            "Epoch 281/300\n",
            "10/10 [==============================] - 1s 69ms/step - loss: 21.8901 - val_loss: 29.7097\n",
            "Epoch 282/300\n",
            "10/10 [==============================] - 1s 69ms/step - loss: 22.3214 - val_loss: 29.6665\n",
            "Epoch 283/300\n",
            "10/10 [==============================] - 1s 70ms/step - loss: 21.2137 - val_loss: 28.0712\n",
            "Epoch 284/300\n",
            "10/10 [==============================] - 1s 71ms/step - loss: 21.1920 - val_loss: 28.4473\n",
            "Epoch 285/300\n",
            "10/10 [==============================] - 1s 67ms/step - loss: 21.0198 - val_loss: 28.0229\n",
            "Epoch 286/300\n",
            "10/10 [==============================] - 1s 70ms/step - loss: 20.8622 - val_loss: 28.0169\n",
            "Epoch 287/300\n",
            "10/10 [==============================] - 1s 71ms/step - loss: 21.2469 - val_loss: 30.8152\n",
            "Epoch 288/300\n",
            "10/10 [==============================] - 1s 67ms/step - loss: 22.0038 - val_loss: 29.0703\n",
            "Epoch 289/300\n",
            "10/10 [==============================] - 1s 70ms/step - loss: 20.5458 - val_loss: 27.0867\n",
            "Epoch 290/300\n",
            "10/10 [==============================] - 1s 69ms/step - loss: 27.0338 - val_loss: 33.4298\n",
            "Epoch 291/300\n",
            "10/10 [==============================] - 1s 70ms/step - loss: 79.9654 - val_loss: 56.7318\n",
            "Epoch 292/300\n",
            "10/10 [==============================] - 1s 68ms/step - loss: 69.9280 - val_loss: 56.9135\n",
            "Epoch 293/300\n",
            "10/10 [==============================] - 1s 69ms/step - loss: 57.3644 - val_loss: 53.7605\n",
            "Epoch 294/300\n",
            "10/10 [==============================] - 1s 70ms/step - loss: 54.1181 - val_loss: 52.8843\n",
            "Epoch 295/300\n",
            "10/10 [==============================] - 1s 69ms/step - loss: 53.7173 - val_loss: 52.8741\n",
            "Epoch 296/300\n",
            "10/10 [==============================] - 1s 72ms/step - loss: 53.7000 - val_loss: 53.0837\n",
            "Epoch 297/300\n",
            "10/10 [==============================] - 1s 72ms/step - loss: 53.7192 - val_loss: 52.9702\n",
            "Epoch 298/300\n",
            "10/10 [==============================] - 1s 70ms/step - loss: 53.7597 - val_loss: 53.0077\n",
            "Epoch 299/300\n",
            "10/10 [==============================] - 1s 74ms/step - loss: 53.7191 - val_loss: 52.8233\n",
            "Epoch 300/300\n",
            "10/10 [==============================] - 1s 70ms/step - loss: 53.7461 - val_loss: 52.8280\n",
            "\n",
            "\n",
            "\n"
          ]
        },
        {
          "output_type": "display_data",
          "data": {
            "image/png": "[encoded data removed]",
            "text/plain": [
              "<Figure size 1152x648 with 1 Axes>"
            ]
          },
          "metadata": {
            "needs_background": "light"
          }
        },
        {
          "output_type": "execute_result",
          "data": {
            "text/plain": [
              "<keras.callbacks.History at 0x7f38a1b46110>"
            ]
          },
          "metadata": {},
          "execution_count": 14
        }
      ]
    },
    {
      "cell_type": "code",
      "metadata": {
        "id": "ICEdL_4cncZc"
      },
      "source": [
        ""
      ],
      "execution_count": 14,
      "outputs": []
    },
    {
      "cell_type": "markdown",
      "metadata": {
        "id": "bobYu_mKnc8D"
      },
      "source": [
        "## Display the results \n",
        "\n",
        "\n",
        "* #### the first graph represents the prediction and actual for the seen data \n",
        "\n",
        "\n",
        "* #### the second graph represents the prediction on the future unseen data\n",
        "\n"
      ]
    },
    {
      "cell_type": "code",
      "metadata": {
        "id": "o6rlkom6ncYE"
      },
      "source": [
        "import tensorflow as tf\n",
        "Model = tf.keras.models.load_model('/content/Data/saved_model')"
      ],
      "execution_count": 18,
      "outputs": []
    },
    {
      "cell_type": "code",
      "metadata": {
        "colab": {
          "base_uri": "https://localhost:8080/",
          "height": 1000
        },
        "id": "9wKYmA1ULmUr",
        "outputId": "ccd1082d-8fe4-46fa-be93-d8e19964e60f"
      },
      "source": [
        "C.show_results(model = Model,\n",
        "               data = data,\n",
        "               future_date = 10) # no. of days to show the feuture trend"
      ],
      "execution_count": 19,
      "outputs": [
        {
          "output_type": "display_data",
          "data": {
            "image/png": "[encoded data removed]",
            "text/plain": [
              "<Figure size 1152x648 with 1 Axes>"
            ]
          },
          "metadata": {
            "needs_background": "light"
          }
        },
        {
          "output_type": "stream",
          "name": "stdout",
          "text": [
            "\n",
            "\n",
            "\n",
            "\n"
          ]
        },
        {
          "output_type": "display_data",
          "data": {
            "image/png": "[encoded data removed]",
            "text/plain": [
              "<Figure size 1152x648 with 1 Axes>"
            ]
          },
          "metadata": {
            "needs_background": "light"
          }
        }
      ]
    },
    {
      "cell_type": "code",
      "metadata": {
        "id": "YSjtAbKkMoBC"
      },
      "source": [
        ""
      ],
      "execution_count": 15,
      "outputs": []
    }
  ]
}